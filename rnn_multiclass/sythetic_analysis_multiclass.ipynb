{
  "nbformat": 4,
  "nbformat_minor": 0,
  "metadata": {
    "colab": {
      "name": "sythetic_analysis_multiclass.ipynb",
      "provenance": [],
      "collapsed_sections": [],
      "toc_visible": true,
      "mount_file_id": "1-iJgvDkUGCZweqtPolMUPqR3A-4dXRTl",
      "authorship_tag": "ABX9TyOOS4tRMSnmZg8GaCPrNbtl",
      "include_colab_link": true
    },
    "kernelspec": {
      "name": "python3",
      "display_name": "Python 3"
    },
    "accelerator": "GPU"
  },
  "cells": [
    {
      "cell_type": "markdown",
      "metadata": {
        "id": "view-in-github",
        "colab_type": "text"
      },
      "source": [
        "<a href=\"https://colab.research.google.com/github/kaitken17/colab_based_projects/blob/master/rnn_multiclass/sythetic_analysis_multiclass.ipynb\" target=\"_parent\"><img src=\"https://colab.research.google.com/assets/colab-badge.svg\" alt=\"Open In Colab\"/></a>"
      ]
    },
    {
      "cell_type": "code",
      "metadata": {
        "id": "bIRFQkOfgd1a",
        "colab": {
          "base_uri": "https://localhost:8080/",
          "height": 784
        },
        "outputId": "059ca09c-ff88-4ec7-91d4-a5c3095217ad"
      },
      "source": [
        "!pip install tensorflow_text\n",
        "!python -m pip install git+https://github.com/nirum/jetpack "
      ],
      "execution_count": null,
      "outputs": [
        {
          "output_type": "stream",
          "text": [
            "Collecting tensorflow_text\n",
            "\u001b[?25l  Downloading https://files.pythonhosted.org/packages/28/b2/2dbd90b93913afd07e6101b8b84327c401c394e60141c1e98590038060b3/tensorflow_text-2.3.0-cp36-cp36m-manylinux1_x86_64.whl (2.6MB)\n",
            "\u001b[K     |████████████████████████████████| 2.6MB 5.3MB/s \n",
            "\u001b[?25hRequirement already satisfied: tensorflow<2.4,>=2.3.0 in /usr/local/lib/python3.6/dist-packages (from tensorflow_text) (2.3.0)\n",
            "Requirement already satisfied: astunparse==1.6.3 in /usr/local/lib/python3.6/dist-packages (from tensorflow<2.4,>=2.3.0->tensorflow_text) (1.6.3)\n",
            "Requirement already satisfied: keras-preprocessing<1.2,>=1.1.1 in /usr/local/lib/python3.6/dist-packages (from tensorflow<2.4,>=2.3.0->tensorflow_text) (1.1.2)\n",
            "Requirement already satisfied: gast==0.3.3 in /usr/local/lib/python3.6/dist-packages (from tensorflow<2.4,>=2.3.0->tensorflow_text) (0.3.3)\n",
            "Requirement already satisfied: tensorflow-estimator<2.4.0,>=2.3.0 in /usr/local/lib/python3.6/dist-packages (from tensorflow<2.4,>=2.3.0->tensorflow_text) (2.3.0)\n",
            "Requirement already satisfied: grpcio>=1.8.6 in /usr/local/lib/python3.6/dist-packages (from tensorflow<2.4,>=2.3.0->tensorflow_text) (1.32.0)\n",
            "Requirement already satisfied: h5py<2.11.0,>=2.10.0 in /usr/local/lib/python3.6/dist-packages (from tensorflow<2.4,>=2.3.0->tensorflow_text) (2.10.0)\n",
            "Requirement already satisfied: google-pasta>=0.1.8 in /usr/local/lib/python3.6/dist-packages (from tensorflow<2.4,>=2.3.0->tensorflow_text) (0.2.0)\n",
            "Requirement already satisfied: opt-einsum>=2.3.2 in /usr/local/lib/python3.6/dist-packages (from tensorflow<2.4,>=2.3.0->tensorflow_text) (3.3.0)\n",
            "Requirement already satisfied: wheel>=0.26 in /usr/local/lib/python3.6/dist-packages (from tensorflow<2.4,>=2.3.0->tensorflow_text) (0.35.1)\n",
            "Requirement already satisfied: six>=1.12.0 in /usr/local/lib/python3.6/dist-packages (from tensorflow<2.4,>=2.3.0->tensorflow_text) (1.15.0)\n",
            "Requirement already satisfied: numpy<1.19.0,>=1.16.0 in /usr/local/lib/python3.6/dist-packages (from tensorflow<2.4,>=2.3.0->tensorflow_text) (1.18.5)\n",
            "Requirement already satisfied: tensorboard<3,>=2.3.0 in /usr/local/lib/python3.6/dist-packages (from tensorflow<2.4,>=2.3.0->tensorflow_text) (2.3.0)\n",
            "Requirement already satisfied: termcolor>=1.1.0 in /usr/local/lib/python3.6/dist-packages (from tensorflow<2.4,>=2.3.0->tensorflow_text) (1.1.0)\n",
            "Requirement already satisfied: wrapt>=1.11.1 in /usr/local/lib/python3.6/dist-packages (from tensorflow<2.4,>=2.3.0->tensorflow_text) (1.12.1)\n",
            "Requirement already satisfied: scipy==1.4.1 in /usr/local/lib/python3.6/dist-packages (from tensorflow<2.4,>=2.3.0->tensorflow_text) (1.4.1)\n",
            "Requirement already satisfied: absl-py>=0.7.0 in /usr/local/lib/python3.6/dist-packages (from tensorflow<2.4,>=2.3.0->tensorflow_text) (0.10.0)\n",
            "Requirement already satisfied: protobuf>=3.9.2 in /usr/local/lib/python3.6/dist-packages (from tensorflow<2.4,>=2.3.0->tensorflow_text) (3.12.4)\n",
            "Requirement already satisfied: tensorboard-plugin-wit>=1.6.0 in /usr/local/lib/python3.6/dist-packages (from tensorboard<3,>=2.3.0->tensorflow<2.4,>=2.3.0->tensorflow_text) (1.7.0)\n",
            "Requirement already satisfied: werkzeug>=0.11.15 in /usr/local/lib/python3.6/dist-packages (from tensorboard<3,>=2.3.0->tensorflow<2.4,>=2.3.0->tensorflow_text) (1.0.1)\n",
            "Requirement already satisfied: markdown>=2.6.8 in /usr/local/lib/python3.6/dist-packages (from tensorboard<3,>=2.3.0->tensorflow<2.4,>=2.3.0->tensorflow_text) (3.2.2)\n",
            "Requirement already satisfied: requests<3,>=2.21.0 in /usr/local/lib/python3.6/dist-packages (from tensorboard<3,>=2.3.0->tensorflow<2.4,>=2.3.0->tensorflow_text) (2.23.0)\n",
            "Requirement already satisfied: google-auth<2,>=1.6.3 in /usr/local/lib/python3.6/dist-packages (from tensorboard<3,>=2.3.0->tensorflow<2.4,>=2.3.0->tensorflow_text) (1.17.2)\n",
            "Requirement already satisfied: google-auth-oauthlib<0.5,>=0.4.1 in /usr/local/lib/python3.6/dist-packages (from tensorboard<3,>=2.3.0->tensorflow<2.4,>=2.3.0->tensorflow_text) (0.4.1)\n",
            "Requirement already satisfied: setuptools>=41.0.0 in /usr/local/lib/python3.6/dist-packages (from tensorboard<3,>=2.3.0->tensorflow<2.4,>=2.3.0->tensorflow_text) (50.3.0)\n",
            "Requirement already satisfied: importlib-metadata; python_version < \"3.8\" in /usr/local/lib/python3.6/dist-packages (from markdown>=2.6.8->tensorboard<3,>=2.3.0->tensorflow<2.4,>=2.3.0->tensorflow_text) (2.0.0)\n",
            "Requirement already satisfied: certifi>=2017.4.17 in /usr/local/lib/python3.6/dist-packages (from requests<3,>=2.21.0->tensorboard<3,>=2.3.0->tensorflow<2.4,>=2.3.0->tensorflow_text) (2020.6.20)\n",
            "Requirement already satisfied: chardet<4,>=3.0.2 in /usr/local/lib/python3.6/dist-packages (from requests<3,>=2.21.0->tensorboard<3,>=2.3.0->tensorflow<2.4,>=2.3.0->tensorflow_text) (3.0.4)\n",
            "Requirement already satisfied: urllib3!=1.25.0,!=1.25.1,<1.26,>=1.21.1 in /usr/local/lib/python3.6/dist-packages (from requests<3,>=2.21.0->tensorboard<3,>=2.3.0->tensorflow<2.4,>=2.3.0->tensorflow_text) (1.24.3)\n",
            "Requirement already satisfied: idna<3,>=2.5 in /usr/local/lib/python3.6/dist-packages (from requests<3,>=2.21.0->tensorboard<3,>=2.3.0->tensorflow<2.4,>=2.3.0->tensorflow_text) (2.10)\n",
            "Requirement already satisfied: rsa<5,>=3.1.4; python_version >= \"3\" in /usr/local/lib/python3.6/dist-packages (from google-auth<2,>=1.6.3->tensorboard<3,>=2.3.0->tensorflow<2.4,>=2.3.0->tensorflow_text) (4.6)\n",
            "Requirement already satisfied: cachetools<5.0,>=2.0.0 in /usr/local/lib/python3.6/dist-packages (from google-auth<2,>=1.6.3->tensorboard<3,>=2.3.0->tensorflow<2.4,>=2.3.0->tensorflow_text) (4.1.1)\n",
            "Requirement already satisfied: pyasn1-modules>=0.2.1 in /usr/local/lib/python3.6/dist-packages (from google-auth<2,>=1.6.3->tensorboard<3,>=2.3.0->tensorflow<2.4,>=2.3.0->tensorflow_text) (0.2.8)\n",
            "Requirement already satisfied: requests-oauthlib>=0.7.0 in /usr/local/lib/python3.6/dist-packages (from google-auth-oauthlib<0.5,>=0.4.1->tensorboard<3,>=2.3.0->tensorflow<2.4,>=2.3.0->tensorflow_text) (1.3.0)\n",
            "Requirement already satisfied: zipp>=0.5 in /usr/local/lib/python3.6/dist-packages (from importlib-metadata; python_version < \"3.8\"->markdown>=2.6.8->tensorboard<3,>=2.3.0->tensorflow<2.4,>=2.3.0->tensorflow_text) (3.2.0)\n",
            "Requirement already satisfied: pyasn1>=0.1.3 in /usr/local/lib/python3.6/dist-packages (from rsa<5,>=3.1.4; python_version >= \"3\"->google-auth<2,>=1.6.3->tensorboard<3,>=2.3.0->tensorflow<2.4,>=2.3.0->tensorflow_text) (0.4.8)\n",
            "Requirement already satisfied: oauthlib>=3.0.0 in /usr/local/lib/python3.6/dist-packages (from requests-oauthlib>=0.7.0->google-auth-oauthlib<0.5,>=0.4.1->tensorboard<3,>=2.3.0->tensorflow<2.4,>=2.3.0->tensorflow_text) (3.1.0)\n",
            "Installing collected packages: tensorflow-text\n",
            "Successfully installed tensorflow-text-2.3.0\n"
          ],
          "name": "stdout"
        }
      ]
    },
    {
      "cell_type": "code",
      "metadata": {
        "id": "kn63FDFHdHwX"
      },
      "source": [
        "import functools\n",
        "\n",
        "import jax\n",
        "import jax.numpy as jnp\n",
        "from jax.experimental import optimizers, stax\n",
        "\n",
        "import numpy as np\n",
        "import matplotlib.pyplot as plt\n",
        "\n",
        "import tensorflow_datasets as tfds\n",
        "\n",
        "from tqdm.notebook import tqdm\n",
        "\n",
        "import os\n",
        "import time\n",
        "import pickle\n",
        "\n",
        "from sklearn.decomposition import PCA\n",
        "\n",
        "import sys\n",
        "sys.path.append('/content/drive/My Drive/ml_research/fixedpoints_nlp/reverse-engineering-neural-networks')\n",
        "import renn\n",
        "\n",
        "sys.path.append('/content/drive/My Drive/ml_research/fixedpoints_nlp/')\n",
        "import synthetic.synthetic_data as syn\n",
        "import synthetic.training as syn_train\n",
        "import synthetic.analysis as syn_an"
      ],
      "execution_count": null,
      "outputs": []
    },
    {
      "cell_type": "code",
      "metadata": {
        "id": "i0_dhOt2bxpw",
        "colab": {
          "base_uri": "https://localhost:8080/",
          "height": 35
        },
        "outputId": "c6289288-52a9-4313-8122-877c5d751b7c"
      },
      "source": [
        "# Reload modules if changes have been made to them\n",
        "from importlib import reload\n",
        "\n",
        "reload(syn)\n",
        "reload(syn_train)\n",
        "reload(syn_an)"
      ],
      "execution_count": null,
      "outputs": [
        {
          "output_type": "execute_result",
          "data": {
            "text/plain": [
              "<module 'synthetic.analysis' from '/content/drive/My Drive/ml_research/fixedpoints_nlp/synthetic/analysis.py'>"
            ]
          },
          "metadata": {
            "tags": []
          },
          "execution_count": 28
        }
      ]
    },
    {
      "cell_type": "code",
      "metadata": {
        "id": "beA5L6LYYDkb"
      },
      "source": [
        "# Skips any tests and just runs function definitions\n",
        "run_tests = False"
      ],
      "execution_count": null,
      "outputs": []
    },
    {
      "cell_type": "markdown",
      "metadata": {
        "id": "8AGe7nNOW_XD"
      },
      "source": [
        "# Synthetic Data: Toy Data Tests"
      ]
    },
    {
      "cell_type": "code",
      "metadata": {
        "id": "2tPRCuzAeiCQ",
        "colab": {
          "base_uri": "https://localhost:8080/",
          "height": 588
        },
        "outputId": "8a7355f6-6e0c-4ef2-b92c-3c3638fcfd17"
      },
      "source": [
        "# Various tests/confirmations of phrase generation\n",
        "run_tests = True\n",
        "if run_tests:\n",
        "  toy_params = {\n",
        "    'phrase_length': 50,\n",
        "    'loss_type': 'XE',\n",
        "    'context_words' : False,\n",
        "    'variable_length': True, # Takes max phrase length as phrase length\n",
        "    'min_phrase_len': 10,\n",
        "    'unordered_class': False, # Use an unordered class set (red, green, blue)\n",
        "    'n_unordered': 3,\n",
        "    'extreme_test': False,\n",
        "    'corr_vals': {},\n",
        "    'the_padding': False,\n",
        "    'words':  ['kinda0', 'kinda1', 'kinda2', 'the'],\n",
        "    'uniform_score': False,\n",
        "    'outer_prod': False\n",
        "    # 'eps2': 0.5,\n",
        "    # 'eps5': 0.3,\n",
        "    # 'filter': 3.0\n",
        "  }\n",
        "\n",
        "  # toy_params['words'] = generateWordBank(toy_params)\n",
        "  toy_params['sentiments'] = ['One', 'Two', 'Three', 'Four', 'Five']\n",
        "  # toy_params['sentiments'] = ['Red', 'Green', 'Blue']\n",
        "  # toy_params['sentiments'] = ['Bad', 'Neutral', 'Good']\n",
        "  if toy_params['unordered_class']:\n",
        "    toy_params['sentiments'] = ['sent'+str(i) for i in range(toy_params['n_unordered'])]\n",
        "\n",
        "  toy_params['base_word_vals'] = syn.baseWordValues(toy_params)\n",
        "  if toy_params['uniform_score'] and toy_params['unordered_class']:\n",
        "    syn.check_word_bank_for_uniform_score(toy_params['words'], len(toy_params['sentiments']))\n",
        "  elif toy_params['uniform_score'] and not toy_params['unordered_class']:\n",
        "    syn.check_word_bank_for_uniform_score_ordered(toy_params['words'])\n",
        "    if len(toy_params['words']) == 5:\n",
        "      score_vals = [-2, -1, 1, 2]\n",
        "      toy_params['score_to_idx_map'] = syn.generate_score_map(len(score_vals), toy_params['phrase_length'], score_vals)\n",
        "\n",
        "  # Makes five phrases and reports scores\n",
        "  print('Five phrases and scores:')\n",
        "  for i in range(5):\n",
        "    sentiment, phrase, sentiment_tensor, phrase_tensor, target_mask = syn.randomTrainingExample(toy_params)\n",
        "\n",
        "  # Test Tensor conversion of toy phrases\n",
        "  sentiment, phrase, sentiment_tensor, phrase_tensor, target_mask = syn.randomTrainingExample(toy_params)\n",
        "  print('Toy phrase:', phrase[:])\n",
        "  print('Toy phrase score:', syn.eval_toy_phrase(phrase, toy_params))\n",
        "  print('Tensor for phrase:', phrase_tensor[:10])\n",
        "  print('Target mask:', target_mask)\n",
        "  print('Shape of phrase tensor', phrase_tensor.shape)\n",
        "  print('Sentiment tensor', sentiment_tensor[:10])\n",
        "  print('Shape of sentiment tensor', sentiment_tensor.shape)\n",
        "\n",
        "  # Random generation of training examples\n",
        "  for i in range(4):\n",
        "    sentiment, phrase, sentiment_tensor, phrase_tensor, _ = syn.randomTrainingExample(toy_params)\n",
        "    print('sentiment =', sentiment, '/ phrase =', phrase)\n",
        "\n",
        "  # Makes many phrases and evaluates scores to see distribution\n",
        "  trials = 10000\n",
        "  scores = []\n",
        "  class_nums = np.zeros(len(toy_params['sentiments']))\n",
        "  lengths = []\n",
        "  for trial in range(trials):\n",
        "    sentiment, phrase, sentiment_tensor, phrase_tensor, _ = syn.randomTrainingExample(toy_params)\n",
        "    class_nums += sentiment_tensor[toy_params['phrase_length']-1]\n",
        "\n",
        "  print('Number of each class:', class_nums)\n",
        "\n",
        "  # if not toy_params['unordered_class']:\n",
        "  #   print('Variance:', np.var(scores))\n",
        "\n",
        "  #   # Histogram of scores\n",
        "  #   plt.hist(scores, bins=40)\n",
        "  #   plt.show()\n",
        "\n",
        "  # if toy_params['variable_length']:\n",
        "  #   # Histogram of lengths\n",
        "  #   plt.hist(lengths, bins=len(set(lengths)))\n",
        "  #   plt.show()"
      ],
      "execution_count": null,
      "outputs": [
        {
          "output_type": "stream",
          "text": [
            "Five phrases and scores:\n",
            "Toy phrase: ['awful', 'the', 'the', 'the', 'awful', 'awful', 'bad', 'awesome', 'awesome', 'bad', 'bad', 'good', 'awful', 'good', 'good', 'awful', 'good', '<pad>', '<pad>', '<pad>', '<pad>', '<pad>', '<pad>', '<pad>', '<pad>', '<pad>', '<pad>', '<pad>', '<pad>', '<pad>', '<pad>', '<pad>', '<pad>', '<pad>', '<pad>', '<pad>', '<pad>', '<pad>', '<pad>', '<pad>', '<pad>', '<pad>', '<pad>', '<pad>', '<pad>', '<pad>', '<pad>', '<pad>', '<pad>', '<pad>']\n",
            "Toy phrase score: -5.0\n",
            "Tensor for phrase: [[0. 0. 0. 1. 0.]\n",
            " [0. 0. 0. 0. 1.]\n",
            " [0. 0. 0. 0. 1.]\n",
            " [0. 0. 0. 0. 1.]\n",
            " [0. 0. 0. 1. 0.]\n",
            " [0. 0. 0. 1. 0.]\n",
            " [0. 0. 1. 0. 0.]\n",
            " [1. 0. 0. 0. 0.]\n",
            " [1. 0. 0. 0. 0.]\n",
            " [0. 0. 1. 0. 0.]]\n",
            "Target mask: [16]\n",
            "Shape of phrase tensor (50, 5)\n",
            "Sentiment tensor [[0. 1. 0. 0. 0.]\n",
            " [0. 1. 0. 0. 0.]\n",
            " [0. 1. 0. 0. 0.]\n",
            " [0. 1. 0. 0. 0.]\n",
            " [0. 1. 0. 0. 0.]\n",
            " [0. 1. 0. 0. 0.]\n",
            " [0. 1. 0. 0. 0.]\n",
            " [0. 1. 0. 0. 0.]\n",
            " [0. 1. 0. 0. 0.]\n",
            " [0. 1. 0. 0. 0.]]\n",
            "Shape of sentiment tensor (50, 5)\n",
            "sentiment = Four / phrase = ['bad', 'good', 'the', 'awesome', 'awesome', 'bad', 'good', 'awesome', 'the', 'good', 'good', 'bad', 'good', 'bad', 'awesome', 'bad', 'good', '<pad>', '<pad>', '<pad>', '<pad>', '<pad>', '<pad>', '<pad>', '<pad>', '<pad>', '<pad>', '<pad>', '<pad>', '<pad>', '<pad>', '<pad>', '<pad>', '<pad>', '<pad>', '<pad>', '<pad>', '<pad>', '<pad>', '<pad>', '<pad>', '<pad>', '<pad>', '<pad>', '<pad>', '<pad>', '<pad>', '<pad>', '<pad>', '<pad>']\n",
            "sentiment = Three / phrase = ['the', 'awful', 'the', 'good', 'awesome', 'awful', 'awesome', 'awesome', 'the', 'awesome', 'awesome', 'the', 'good', 'the', 'awful', 'the', 'awful', 'awful', 'the', 'good', 'awful', 'awesome', 'awful', 'the', 'the', '<pad>', '<pad>', '<pad>', '<pad>', '<pad>', '<pad>', '<pad>', '<pad>', '<pad>', '<pad>', '<pad>', '<pad>', '<pad>', '<pad>', '<pad>', '<pad>', '<pad>', '<pad>', '<pad>', '<pad>', '<pad>', '<pad>', '<pad>', '<pad>', '<pad>']\n",
            "sentiment = Two / phrase = ['awful', 'the', 'awful', 'awesome', 'bad', 'good', 'awesome', 'good', 'the', 'awful', 'bad', 'awful', 'awful', 'the', 'awful', 'good', 'bad', 'awesome', 'the', 'awful', 'bad', 'awful', 'good', 'bad', 'awesome', 'awesome', 'the', '<pad>', '<pad>', '<pad>', '<pad>', '<pad>', '<pad>', '<pad>', '<pad>', '<pad>', '<pad>', '<pad>', '<pad>', '<pad>', '<pad>', '<pad>', '<pad>', '<pad>', '<pad>', '<pad>', '<pad>', '<pad>', '<pad>', '<pad>']\n",
            "sentiment = Four / phrase = ['the', 'good', 'awful', 'awesome', 'the', 'bad', 'good', 'awesome', 'awesome', 'awesome', 'the', 'awful', 'awful', 'good', '<pad>', '<pad>', '<pad>', '<pad>', '<pad>', '<pad>', '<pad>', '<pad>', '<pad>', '<pad>', '<pad>', '<pad>', '<pad>', '<pad>', '<pad>', '<pad>', '<pad>', '<pad>', '<pad>', '<pad>', '<pad>', '<pad>', '<pad>', '<pad>', '<pad>', '<pad>', '<pad>', '<pad>', '<pad>', '<pad>', '<pad>', '<pad>', '<pad>', '<pad>', '<pad>', '<pad>']\n",
            "Number of each class: [1231. 2339. 2770. 2647. 1013.]\n"
          ],
          "name": "stdout"
        }
      ]
    },
    {
      "cell_type": "code",
      "metadata": {
        "id": "3IsO35vFdUy5",
        "colab": {
          "base_uri": "https://localhost:8080/",
          "height": 238
        },
        "outputId": "357c9c78-db75-4f4c-fbb2-8115919a0938"
      },
      "source": [
        "# Tests on score filters and uniform score distribution\n",
        "if run_tests:\n",
        "  toy_params = {\n",
        "      'phrase_length': 48,\n",
        "      'loss_type': 'XE',\n",
        "      'words': ['kinda0', 'kinda1', 'kinda2'],\n",
        "      'unordered_class': True, \n",
        "      'n_unordered': 3,\n",
        "      'filter': 24,\n",
        "      'uniform_score': True,\n",
        "  }\n",
        "\n",
        "  if toy_params['unordered_class']:\n",
        "    toy_params['sentiments'] = ['sent'+str(i) for i in range(toy_params['n_unordered'])]\n",
        "\n",
        "  toy_params['base_word_vals'] = syn.baseWordValues(toy_params)\n",
        "\n",
        "  toy_params['possible_scores'] = enumerate_scores(toy_params)\n",
        "  print('Possible scores:', toy_params['possible_scores'])\n",
        "  print('# Possible scores:', len(toy_params['possible_scores']))\n",
        "  diff_dict = {}\n",
        "  diff_count = {}\n",
        "  for score in toy_params['possible_scores']:\n",
        "    diff = score[0]-score[1]\n",
        "    if diff in diff_dict:\n",
        "      if diff_dict[diff] != np.argmax(score):\n",
        "        print('Inconsistency for diff {}:'.format(diff), np.argmax(score), 'and',  diff_dict[diff])\n",
        "    else:\n",
        "      diff_dict[diff] = np.argmax(score)\n",
        "      diff_count[diff] = 0\n",
        "    \n",
        "    # print('Diff is:', score[0]-score[1], 'Class is:', np.argmax(score))\n",
        "\n",
        "  # Random generation of training examples\n",
        "  for i in range(5):\n",
        "    sentiment, phrase, sentiment_tensor, phrase_tensor, _ = randomTrainingExample(toy_params)\n",
        "    print('sentiment =', sentiment, '/ phrase =', phrase)\n",
        "\n",
        "  trials = 10000\n",
        "  correct = 0\n",
        "  for i in range(trials):\n",
        "    sentiment, phrase, sentiment_tensor, phrase_tensor, _ = randomTrainingExample(toy_params)\n",
        "\n",
        "    phrase_tensor_sum = np.sum(phrase_tensor, axis=0)\n",
        "    diff = phrase_tensor_sum[0] - phrase_tensor_sum[1]\n",
        "    diff_count[diff] += 1\n",
        "    if np.abs(diff) < toy_params['phrase_length']/2:\n",
        "      pred_tensor = np.asarray([0, 0, 1])\n",
        "    elif diff >= toy_params['phrase_length']/2:\n",
        "      pred_tensor = np.asarray([1, 0, 0])\n",
        "    else:\n",
        "      pred_tensor = np.asarray([0, 1, 0])\n",
        "    if np.argmax(sentiment_tensor[toy_params['phrase_length']-1]) == np.argmax(pred_tensor):\n",
        "      correct += 1\n",
        "    else:\n",
        "      print('Incorrect Score:', phrase_tensor_sum , 'diff:', diff, 'Guess:',  np.argmax(pred_tensor), 'Correct:', np.argmax(sentiment_tensor[toy_params['phrase_length']-1]))\n",
        "\n",
        "  print('Accuracy:', correct/trials)\n",
        "  plt.figure()\n",
        "  plt.scatter(list(diff_count.keys()), list(diff_count.values()))"
      ],
      "execution_count": null,
      "outputs": [
        {
          "output_type": "error",
          "ename": "NameError",
          "evalue": "ignored",
          "traceback": [
            "\u001b[0;31m---------------------------------------------------------------------------\u001b[0m",
            "\u001b[0;31mNameError\u001b[0m                                 Traceback (most recent call last)",
            "\u001b[0;32m<ipython-input-3-4f98bf5abf95>\u001b[0m in \u001b[0;36m<module>\u001b[0;34m()\u001b[0m\n\u001b[1;32m     14\u001b[0m     \u001b[0mtoy_params\u001b[0m\u001b[0;34m[\u001b[0m\u001b[0;34m'sentiments'\u001b[0m\u001b[0;34m]\u001b[0m \u001b[0;34m=\u001b[0m \u001b[0;34m[\u001b[0m\u001b[0;34m'sent'\u001b[0m\u001b[0;34m+\u001b[0m\u001b[0mstr\u001b[0m\u001b[0;34m(\u001b[0m\u001b[0mi\u001b[0m\u001b[0;34m)\u001b[0m \u001b[0;32mfor\u001b[0m \u001b[0mi\u001b[0m \u001b[0;32min\u001b[0m \u001b[0mrange\u001b[0m\u001b[0;34m(\u001b[0m\u001b[0mtoy_params\u001b[0m\u001b[0;34m[\u001b[0m\u001b[0;34m'n_unordered'\u001b[0m\u001b[0;34m]\u001b[0m\u001b[0;34m)\u001b[0m\u001b[0;34m]\u001b[0m\u001b[0;34m\u001b[0m\u001b[0;34m\u001b[0m\u001b[0m\n\u001b[1;32m     15\u001b[0m \u001b[0;34m\u001b[0m\u001b[0m\n\u001b[0;32m---> 16\u001b[0;31m   \u001b[0mtoy_params\u001b[0m\u001b[0;34m[\u001b[0m\u001b[0;34m'base_word_vals'\u001b[0m\u001b[0;34m]\u001b[0m \u001b[0;34m=\u001b[0m \u001b[0mbaseWordValues\u001b[0m\u001b[0;34m(\u001b[0m\u001b[0mtoy_params\u001b[0m\u001b[0;34m)\u001b[0m\u001b[0;34m\u001b[0m\u001b[0;34m\u001b[0m\u001b[0m\n\u001b[0m\u001b[1;32m     17\u001b[0m \u001b[0;34m\u001b[0m\u001b[0m\n\u001b[1;32m     18\u001b[0m   \u001b[0mtoy_params\u001b[0m\u001b[0;34m[\u001b[0m\u001b[0;34m'base_word_vals'\u001b[0m\u001b[0;34m]\u001b[0m \u001b[0;34m=\u001b[0m \u001b[0mbaseWordValues\u001b[0m\u001b[0;34m(\u001b[0m\u001b[0mtoy_params\u001b[0m\u001b[0;34m)\u001b[0m\u001b[0;34m\u001b[0m\u001b[0;34m\u001b[0m\u001b[0m\n",
            "\u001b[0;31mNameError\u001b[0m: name 'baseWordValues' is not defined"
          ]
        }
      ]
    },
    {
      "cell_type": "code",
      "metadata": {
        "id": "BIkRL0Hn5fcT"
      },
      "source": [
        "# Test on correlations data\n",
        "if run_tests:\n",
        "  toy_params = {\n",
        "    'phrase_length': 12,\n",
        "    'loss_type': 'XE',\n",
        "    'context_words' : False,\n",
        "    'unordered_class': True, # Use an unordered class set (red, green, blue)\n",
        "    'n_unordered': 3,\n",
        "    'corr_vals': {'01': 0.1, '02': 0.1}\n",
        "  }\n",
        "\n",
        "  toy_params['words'] = generateWordBank(toy_params)\n",
        "  if toy_params['unordered_class']:\n",
        "    toy_params['sentiments'] = ['sent'+str(i) for i in range(toy_params['n_unordered'])]\n",
        "  toy_params['base_word_vals'] = baseWordValues(toy_params)\n",
        "\n",
        "  train_params, rnn_specs = {}, {}\n",
        "\n",
        "  train_params, toy_params, rnn_specs = default_params(train_params, toy_params, rnn_specs)\n",
        "\n",
        "  for i in range(5):\n",
        "    toy_phrase = make_toy_phrase(toy_params)\n",
        "    print(toy_phrase)\n",
        "    score = eval_toy_phrase(toy_phrase, toy_params)\n",
        "    print(score)\n",
        "\n",
        "  # trials = 10000\n",
        "  # score_vals = np.zeros((toy_params['n_unordered'],))\n",
        "  # for trial in range(trials):\n",
        "  #   sentiment, _, sentiment_tensor, _, _ = randomTrainingExample(toy_params)\n",
        "  #   score_vals += sentiment_tensor[toy_params['phrase_length']-1]\n",
        "\n",
        "  # print('Scores:', score_vals)"
      ],
      "execution_count": null,
      "outputs": []
    },
    {
      "cell_type": "code",
      "metadata": {
        "id": "IiFbXwokP4rZ"
      },
      "source": [
        "# Test on extreme data\n",
        "if run_tests:\n",
        "\n",
        "  toy_params = {\n",
        "    'phrase_length': 50,\n",
        "    'loss_type': 'XE',\n",
        "    'context_words' : False,\n",
        "    'variable_length': False, # Takes max phrase length as phrase length\n",
        "    'min_phrase_len': 10,\n",
        "    'unordered_class': False, # Use an unordered class set (red, green, blue)\n",
        "    'n_unordered': 7,\n",
        "    'words': ['bad', 'good', 'the', 'extremely'],\n",
        "    'sentiments': ['Bad', 'Neutral', 'Good'],\n",
        "    'extreme_test': True\n",
        "  }\n",
        "\n",
        "\n",
        "  print('Five phrases and scores:')\n",
        "  for i in range(5):\n",
        "    toy_phrase = make_toy_phrase(toy_params)\n",
        "    print(toy_phrase)\n",
        "    sentiment, sentiment_tensor = classifySentimentExtreme(toy_phrase, toy_params)\n",
        "    print('Sentiment:', sentiment)\n",
        "\n",
        "  # Makes many phrases and evaluates scores to see distribution\n",
        "  trials = 10000\n",
        "  score_vals = np.zeros((3,))\n",
        "  for trial in range(trials):\n",
        "    sentiment, _, sentiment_tensor, _, _ = randomTrainingExample(toy_params)\n",
        "    score_vals += sentiment_tensor[toy_params['phrase_length']-1]\n",
        "\n",
        "  print('Scores:', score_vals)"
      ],
      "execution_count": null,
      "outputs": []
    },
    {
      "cell_type": "code",
      "metadata": {
        "id": "TkIi-rBjJtgh"
      },
      "source": [
        "if run_tests:\n",
        "  toy_params = {\n",
        "    'phrase_length': 50,\n",
        "    'loss_type': 'XE',\n",
        "    'context_words' : False,\n",
        "    'variable_length': False, # Takes max phrase length as phrase length\n",
        "    'min_phrase_len': 10,\n",
        "    'unordered_class': True, # Use an unordered class set\n",
        "    'n_unordered': 2,\n",
        "  }\n",
        "\n",
        "  toy_params['words'] = ['kinda0', 'kinda2', 'the'] #generateWordBank(toy_params)\n",
        "  # toy_params['words'].append('kinda01')\n",
        "  # toy_params['words'].append('kinda01')\n",
        "  # toy_params['words'].remove('kinda0')\n",
        "  # toy_params['words'].remove('kinda1')\n",
        "  # toy_params['sentiments'] = ['Bad', 'Neutral', 'Good']\n",
        "  if toy_params['unordered_class']:\n",
        "    toy_params['sentiments'] = ['sent'+str(i) for i in range(toy_params['n_unordered'])]\n",
        "\n",
        "  # Makes many phrases and evaluates scores to see distribution\n",
        "  trials = 10000\n",
        "  scores = np.zeros((trials, toy_params['n_unordered']))\n",
        "  for trial in range(trials):\n",
        "    toy_phrase = make_toy_phrase(toy_params)\n",
        "    score = eval_toy_phrase(toy_phrase, toy_params)\n",
        "    scores[trial] = score"
      ],
      "execution_count": null,
      "outputs": []
    },
    {
      "cell_type": "code",
      "metadata": {
        "id": "QcnZBiWSLoSI"
      },
      "source": [
        "if run_tests:\n",
        "  scores_adj =  np.zeros((trials, toy_params['n_unordered']))\n",
        "\n",
        "  for i in range(toy_params['n_unordered']):\n",
        "    print('Mean:'.format(i), np.mean(scores[:,i]))\n",
        "    scores_adj[:,i] = scores[:,i] - np.mean(scores[:,i])\n",
        "\n",
        "  print(np.cov(scores_adj.T))"
      ],
      "execution_count": null,
      "outputs": []
    },
    {
      "cell_type": "markdown",
      "metadata": {
        "id": "2OOXYpXQXCjt"
      },
      "source": [
        "# Train and Build Network"
      ]
    },
    {
      "cell_type": "code",
      "metadata": {
        "id": "-UYcfetQdeVK",
        "colab": {
          "base_uri": "https://localhost:8080/",
          "height": 279
        },
        "outputId": "2e10d7e4-bbc7-4dd2-eef6-1b057c78128f"
      },
      "source": [
        "# Optimization hyperparameters\n",
        "num_batchs = 20000        # Total number of batches to train on.\n",
        "init_lr = 0.1          # initial learning rate\n",
        "decay_factor = 0.9997     # decay the learning rate this much\n",
        "\n",
        "learning_rate = optimizers.exponential_decay(init_lr, decay_steps=1, \n",
        "                                         decay_rate=decay_factor)\n",
        "\n",
        "batch_idxs = np.linspace(1, num_batchs)\n",
        "plt.semilogy(batch_idxs, [learning_rate(b) for b in batch_idxs])\n",
        "plt.axis('tight')\n",
        "plt.xlabel('Batch number')\n",
        "plt.ylabel('Learning rate');"
      ],
      "execution_count": null,
      "outputs": [
        {
          "output_type": "display_data",
          "data": {
            "image/png": "[encoded data removed]",
            "text/plain": [
              "<Figure size 432x288 with 1 Axes>"
            ]
          },
          "metadata": {
            "tags": [],
            "needs_background": "light"
          }
        }
      ]
    },
    {
      "cell_type": "markdown",
      "metadata": {
        "id": "Y6bxiNRUrxXa"
      },
      "source": [
        "#### Train the Network"
      ]
    },
    {
      "cell_type": "code",
      "metadata": {
        "id": "RMemkpIieCjU",
        "colab": {
          "base_uri": "https://localhost:8080/",
          "height": 1000
        },
        "outputId": "9269b2bf-b857-463b-ce8c-50214e35b841"
      },
      "source": [
        "seed = 342343\n",
        "prng_key = jax.random.PRNGKey(seed) # create a random key for jax for use on device.\n",
        "\n",
        "########## Toy data parameters ##########\n",
        "toy_params = {\n",
        "  'phrase_length': 50,\n",
        "  'loss_type': 'XE',\n",
        "  'variable_length': False, # Takes max phrase length as phrase length\n",
        "  'min_phrase_len': 10,\n",
        "  'context_words' : False,\n",
        "  'unordered_class': True, # Use an unordered class set (also used for outer)\n",
        "  'n_unordered': 2,\n",
        "  'words': ['kinda0', 'kinda1', 'bad0', 'bad1', 'the'], # ['kinda0', 'kinda1', 'kinda2', 'kinda3', 'the'], #['awesome', 'good', 'bad', 'awful', 'okay', 'the'],\n",
        "  'uniform_score': False, # Uniform distribution over scores\n",
        "  'outer_prod': True,\n",
        "  'filter_classes': True,\n",
        "  # 'corr_vals': {'01': 0.7, '12': 0.7, '23': 0.7, '30': 0.7,}\n",
        "  # 'score_vals': [np.asarray([2, -1]), np.asarray([1, 1/2]),  np.asarray([-1, 1/2]), np.asarray([-2, -1]), np.asarray([0, 2])],\n",
        "  'five_order_match': False,\n",
        "}\n",
        "\n",
        "# toy_params['sentiments'] = ['One', 'Two', 'Three', 'Four', 'Five']\n",
        "# toy_params['sentiments'] = ['Bad', 'Neutral', 'Good']\n",
        "toy_params['sentiments'] = ['Bad', 'Good']\n",
        "if toy_params['unordered_class']:\n",
        "  toy_params['sentiments'] = ['sent'+str(i) for i in range(toy_params['n_unordered'])]\n",
        "\n",
        "toy_params['base_word_vals'] = syn.baseWordValues(toy_params)\n",
        "\n",
        "########## RNN hyperparameters ##########\n",
        "rnn_specs = {\n",
        "  'cell_type': 'GRU',                               # Supports 'Vanilla', 'GRU', 'LSTM', or 'UGRNN'\n",
        "  'input_size': len(toy_params['words']),           # Number of inputs to the RNN\n",
        "  'hidden_size': 120,                               # Number of units in the RNN\n",
        "  'output_size': len(toy_params['sentiments']),     # Number of outputs in the RNN\n",
        "  'ro_bias': False,                                 # Include a bias with the readout\n",
        "  'ro_simplex_init': False,\n",
        "  'loss_type': 'XE_binary' if toy_params['outer_prod']   else 'XE'\n",
        "}\n",
        "\n",
        "########## Train hyperparameters ##########\n",
        "\n",
        "train_params = {\n",
        "  'max_grad_norm': 10.0,      # max gradient norm before clipping, clip to this value.\n",
        "  'l2reg': 5e-4,           # amount of L2 regularization on the weights\n",
        "\n",
        "  'init_lr': 0.1,                     # initial learning rate\n",
        "  'decay_factor': 0.9997,             # decay the learning rate this much\n",
        "  'adam_b1': 0.9,                     # Adam parameters (b1=0.9, b2=0.99, eps=1e-8 are defaults)\n",
        "  'adam_b2': 0.99,\n",
        "  'adam_eps': 1e-1,\n",
        "\n",
        "  'batch_size': 126,                     # How many examples in each batch\n",
        "  'num_batchs': 1000,                    # Total number of batches to train on.\n",
        "  'print_every': 100,                     # Print training informatino every so often\n",
        "\n",
        "  'n_datasets':  3,                           # Number of new train sets to generate total (this is slow)\n",
        "  'epochs': 2,                               # How many times to go through each train set completely\n",
        "  'test_set_size': 300,\n",
        "  'auto_balance': True,\n",
        "\n",
        "  'decay_fun': optimizers.exponential_decay(init_lr, decay_steps=1, decay_rate=decay_factor),\n",
        "}\n",
        "\n",
        "train_params['train_set_size'] = train_params['batch_size'] * train_params['num_batchs'] \n",
        "# Sets default parameters if they weren't set above\n",
        "train_params, toy_params, rnn_specs = syn_train.default_params(train_params, toy_params, rnn_specs)\n",
        "\n",
        "########## Run ##########\n",
        "\n",
        "print('Total words:', len(toy_params['words']), 'Words:', toy_params['words'])\n",
        "print('Total sentiments:', len(toy_params['sentiments']), 'Sentiments:', toy_params['sentiments'])\n",
        "\n",
        "new_network = True\n",
        "load_network = False\n",
        "save_data = True\n",
        "\n",
        "path = '/content/drive/My Drive/ml_research/fixedpoints_nlp/data/gru_2outer_match2_noRO_l2is5e-4.pickle'\n",
        "save_data = syn_train.override_data(path, save_data)\n",
        "\n",
        "if new_network:\n",
        "  # Initialize the optimizer.  Please see jax/experimental/optimizers.py\n",
        "  init_fun, apply_fun, mask_fun, loss_fun, accuracy_fun = syn_train.build_rnn(rnn_specs, train_params)\n",
        "  input_shape = (train_params['batch_size'], toy_params['phrase_length'], len(toy_params['words']))\n",
        "  output_shape, initial_params = init_fun(prng_key, input_shape)\n",
        "\n",
        "  opt = optimizers.adam(train_params['decay_fun'], train_params['adam_b1'], train_params['adam_b2'], train_params['adam_eps'])\n",
        "  opt_state, step_fun = syn_train.build_optimizer_step(opt, initial_params, loss_fun, gradient_clip=train_params['max_grad_norm'])\n",
        "  \n",
        "  init_opt, update_opt, get_params = opt\n",
        "\n",
        "  train_params['train_losses'] = []\n",
        "  train_params['global_step'] = 0\n",
        "  train_params['total_steps'] = 0\n",
        "\n",
        "elif load_network:\n",
        " \n",
        "  initial_params = params_loaded_jax\n",
        "  output_shape = (train_params['batch_size'], toy_params['phrase_length'], len(toy_params['sentiments']))\n",
        "\n",
        "  opt = optimizers.adam(train_params['decay_fun'], train_params['adam_b1'], train_params['adam_b2'], train_params['adam_eps'])\n",
        "  opt_state, step_fun = syn_train.build_optimizer_step(opt, initial_params, loss_fun, gradient_clip=train_params['max_grad_norm'])\n",
        "\n",
        "  init_opt, update_opt, get_params = opt\n",
        "\n",
        "  train_params['train_losses'] = train_params['train_losses'] if 'train_losses' in train_params else []\n",
        "  train_params['global_step'] = train_params['total_steps']\n",
        "\n",
        "else:\n",
        "  train_params['train_losses'] = []\n",
        "  train_params['total_steps'] = 20000\n",
        "  train_params['global_step'] = train_params['total_steps']\n",
        "\n",
        "# Generate synthetic data and run training on said data\n",
        "opt_state, train_params = syn_train.train_on_synthetic_data(opt_state, step_fun, get_params, train_params, toy_params, rnn_specs, accuracy_fun)\n",
        "\n",
        "if 'score_to_idx_map' in toy_params: toy_params.pop('score_to_idx_map') # This is too big to save\n",
        "train_params.pop('decay_fun') # Can't pickle with decay fun\n",
        "syn_train.save_run_data(path, save_data, get_params(opt_state), toy_params, rnn_specs, train_params)\n",
        "\n",
        "# Destructure the trained parameters of the RNN.\n",
        "final_params = get_params(opt_state)\n",
        "rnn_params, readout_params = final_params"
      ],
      "execution_count": null,
      "outputs": [
        {
          "output_type": "stream",
          "text": [
            "Total words: 5 Words: ['kinda0', 'kinda1', 'bad0', 'bad1', 'the']\n",
            "Total sentiments: 2 Sentiments: ['sent0', 'sent1']\n",
            "Filtering out classes: []\n",
            "Looking for num per class: [115920.   4914.   4914.    252.]\n",
            "Sythentic data generated in: 163.00 sec. Autobalanced: True. Uniform score: False\n",
            "Filtering out classes: []\n",
            "Looking for num per class: [276.  11.  11.   0.]\n",
            "Sythentic data generated in: 0.38 sec. Autobalanced: True. Uniform score: False\n",
            "Shuffling Data\n",
            "Running batches 0 to 1000\n",
            "Using binary XE loss\n",
            "Using binary XE loss\n",
            "Step 100 in 5.25 sec, step size: 0.09707, test acc 0.9633, avg training loss 0.3543\n",
            "Step 200 in 2.16 sec, step size: 0.09420, test acc 0.9633, avg training loss 0.3179\n",
            "Step 300 in 2.21 sec, step size: 0.09142, test acc 0.9633, avg training loss 0.2888\n",
            "Step 400 in 2.20 sec, step size: 0.08872, test acc 0.9633, avg training loss 0.2619\n",
            "Step 500 in 2.16 sec, step size: 0.08610, test acc 0.9633, avg training loss 0.2474\n",
            "Step 600 in 2.19 sec, step size: 0.08355, test acc 0.9633, avg training loss 0.2457\n",
            "Step 700 in 2.16 sec, step size: 0.08108, test acc 0.9633, avg training loss 0.2310\n",
            "Step 800 in 2.19 sec, step size: 0.07868, test acc 0.9633, avg training loss 0.2194\n",
            "Step 900 in 2.15 sec, step size: 0.07636, test acc 0.9650, avg training loss 0.1913\n",
            "Step 1000 in 2.18 sec, step size: 0.07410, test acc 0.9633, avg training loss 0.1976\n",
            "Shuffling Data\n",
            "Running batches 1000 to 2000\n",
            "Step 1100 in 2.14 sec, step size: 0.07191, test acc 0.9633, avg training loss 0.2224\n",
            "Step 1200 in 2.26 sec, step size: 0.06979, test acc 0.9633, avg training loss 0.2098\n",
            "Step 1300 in 2.23 sec, step size: 0.06772, test acc 0.9633, avg training loss 0.2047\n",
            "Step 1400 in 2.18 sec, step size: 0.06572, test acc 0.9633, avg training loss 0.2006\n",
            "Step 1500 in 2.28 sec, step size: 0.06378, test acc 0.9633, avg training loss 0.1994\n",
            "Step 1600 in 2.16 sec, step size: 0.06189, test acc 0.9633, avg training loss 0.1882\n",
            "Step 1700 in 2.16 sec, step size: 0.06006, test acc 0.9633, avg training loss 0.1880\n",
            "Step 1800 in 2.19 sec, step size: 0.05829, test acc 0.9633, avg training loss 0.1828\n",
            "Step 1900 in 2.18 sec, step size: 0.05657, test acc 0.9633, avg training loss 0.1614\n",
            "Step 2000 in 2.15 sec, step size: 0.05489, test acc 0.9633, avg training loss 0.1490\n",
            "Filtering out classes: []\n",
            "Looking for num per class: [115920.   4914.   4914.    252.]\n",
            "Sythentic data generated in: 164.35 sec. Autobalanced: True. Uniform score: False\n",
            "Filtering out classes: []\n",
            "Looking for num per class: [276.  11.  11.   0.]\n",
            "Sythentic data generated in: 0.41 sec. Autobalanced: True. Uniform score: False\n",
            "Shuffling Data\n",
            "Running batches 2000 to 3000\n",
            "Step 2100 in 2.17 sec, step size: 0.05327, test acc 0.9633, avg training loss 0.1393\n",
            "Step 2200 in 2.28 sec, step size: 0.05170, test acc 0.9650, avg training loss 0.1322\n",
            "Step 2300 in 2.16 sec, step size: 0.05017, test acc 0.9650, avg training loss 0.1328\n",
            "Step 2400 in 2.16 sec, step size: 0.04869, test acc 0.9667, avg training loss 0.1303\n",
            "Step 2500 in 2.33 sec, step size: 0.04725, test acc 0.9683, avg training loss 0.1327\n",
            "Step 2600 in 2.18 sec, step size: 0.04585, test acc 0.9667, avg training loss 0.1270\n",
            "Step 2700 in 2.20 sec, step size: 0.04449, test acc 0.9667, avg training loss 0.1326\n",
            "Step 2800 in 2.26 sec, step size: 0.04318, test acc 0.9683, avg training loss 0.1334\n",
            "Step 2900 in 2.32 sec, step size: 0.04190, test acc 0.9717, avg training loss 0.1257\n",
            "Step 3000 in 2.15 sec, step size: 0.04066, test acc 0.9717, avg training loss 0.1222\n",
            "Shuffling Data\n",
            "Running batches 3000 to 4000\n",
            "Step 3100 in 2.19 sec, step size: 0.03946, test acc 0.9717, avg training loss 0.1209\n",
            "Step 3200 in 2.28 sec, step size: 0.03830, test acc 0.9700, avg training loss 0.1278\n",
            "Step 3300 in 2.34 sec, step size: 0.03716, test acc 0.9767, avg training loss 0.1221\n",
            "Step 3400 in 2.21 sec, step size: 0.03607, test acc 0.9783, avg training loss 0.1153\n",
            "Step 3500 in 2.33 sec, step size: 0.03500, test acc 0.9717, avg training loss 0.1220\n",
            "Step 3600 in 2.19 sec, step size: 0.03397, test acc 0.9717, avg training loss 0.1128\n",
            "Step 3700 in 2.19 sec, step size: 0.03296, test acc 0.9717, avg training loss 0.1141\n",
            "Step 3800 in 2.16 sec, step size: 0.03199, test acc 0.9717, avg training loss 0.1174\n",
            "Step 3900 in 2.18 sec, step size: 0.03104, test acc 0.9783, avg training loss 0.1193\n",
            "Step 4000 in 2.31 sec, step size: 0.03012, test acc 0.9750, avg training loss 0.1142\n",
            "Filtering out classes: []\n",
            "Looking for num per class: [115920.   4914.   4914.    252.]\n",
            "Sythentic data generated in: 162.72 sec. Autobalanced: True. Uniform score: False\n",
            "Filtering out classes: []\n",
            "Looking for num per class: [276.  11.  11.   0.]\n",
            "Sythentic data generated in: 0.42 sec. Autobalanced: True. Uniform score: False\n",
            "Shuffling Data\n",
            "Running batches 4000 to 5000\n",
            "Step 4100 in 2.17 sec, step size: 0.02923, test acc 0.9700, avg training loss 0.1076\n",
            "Step 4200 in 2.38 sec, step size: 0.02837, test acc 0.9717, avg training loss 0.1100\n",
            "Step 4300 in 2.25 sec, step size: 0.02753, test acc 0.9883, avg training loss 0.0853\n",
            "Step 4400 in 2.22 sec, step size: 0.02672, test acc 0.9850, avg training loss 0.0754\n",
            "Step 4500 in 2.30 sec, step size: 0.02593, test acc 0.9733, avg training loss 0.0843\n",
            "Step 4600 in 2.22 sec, step size: 0.02516, test acc 0.9850, avg training loss 0.0728\n",
            "Step 4700 in 2.21 sec, step size: 0.02442, test acc 0.9800, avg training loss 0.0674\n",
            "Step 4800 in 2.24 sec, step size: 0.02370, test acc 0.9867, avg training loss 0.0636\n",
            "Step 4900 in 2.31 sec, step size: 0.02300, test acc 0.9783, avg training loss 0.0741\n",
            "Step 5000 in 2.43 sec, step size: 0.02232, test acc 0.9800, avg training loss 0.0643\n",
            "Shuffling Data\n",
            "Running batches 5000 to 6000\n",
            "Step 5100 in 2.49 sec, step size: 0.02166, test acc 0.9800, avg training loss 0.0622\n",
            "Step 5200 in 2.22 sec, step size: 0.02102, test acc 0.9817, avg training loss 0.0606\n",
            "Step 5300 in 2.20 sec, step size: 0.02039, test acc 0.9850, avg training loss 0.0694\n",
            "Step 5400 in 2.29 sec, step size: 0.01979, test acc 0.9833, avg training loss 0.0649\n",
            "Step 5500 in 2.31 sec, step size: 0.01921, test acc 0.9850, avg training loss 0.0580\n",
            "Step 5600 in 2.30 sec, step size: 0.01864, test acc 0.9850, avg training loss 0.0672\n",
            "Step 5700 in 2.22 sec, step size: 0.01809, test acc 0.9867, avg training loss 0.0600\n",
            "Step 5800 in 2.31 sec, step size: 0.01755, test acc 0.9867, avg training loss 0.0552\n",
            "Step 5900 in 2.20 sec, step size: 0.01703, test acc 0.9850, avg training loss 0.0560\n",
            "Step 6000 in 2.20 sec, step size: 0.01653, test acc 0.9800, avg training loss 0.0586\n",
            "Data Saved\n"
          ],
          "name": "stdout"
        }
      ]
    },
    {
      "cell_type": "code",
      "metadata": {
        "id": "9GyiRlK86LyP"
      },
      "source": [
        "# Save the network\n",
        "path =  '/content/drive/My Drive/ml_research/fixedpoints_nlp/data/gru_5classrgb_minimal_eps5is05_noRO_l2is5e-4_2.pickle'\n",
        "\n",
        "# train_params.pop('decay_fun')\n",
        "\n",
        "save_data = override_data(path, True)\n",
        "save_run_data(path, save_data, get_params(opt_state), toy_params, rnn_specs, train_params)"
      ],
      "execution_count": null,
      "outputs": []
    },
    {
      "cell_type": "code",
      "metadata": {
        "id": "KZhQFpKMY5xQ",
        "colab": {
          "base_uri": "https://localhost:8080/",
          "height": 35
        },
        "outputId": "615fa6f1-e193-4b15-94ec-f118ec0ed185"
      },
      "source": [
        "# Loads network\n",
        "path = '/content/drive/My Drive/ml_research/fixedpoints_nlp/data/gru_4classrgb_uniformscore_0123corr01_l2is1e-2.pickle'\n",
        "\n",
        "with open(path, 'rb') as load_file:\n",
        "    params_loaded = pickle.load(load_file)\n",
        "    toy_params = pickle.load(load_file)\n",
        "    rnn_specs = pickle.load(load_file)\n",
        "    train_params = pickle.load(load_file)\n",
        "\n",
        "rnn_params, readout_params = params_loaded\n",
        "train_params, toy_params, rnn_specs = syn_train.default_params(train_params, toy_params, rnn_specs)\n",
        "print('Data Loaded')"
      ],
      "execution_count": null,
      "outputs": [
        {
          "output_type": "stream",
          "text": [
            "Data Loaded\n"
          ],
          "name": "stdout"
        }
      ]
    },
    {
      "cell_type": "code",
      "metadata": {
        "id": "Pty2yPiAv5sr",
        "colab": {
          "base_uri": "https://localhost:8080/",
          "height": 297
        },
        "outputId": "1d5e3725-f556-4006-d128-efbbb83811d0"
      },
      "source": [
        "train_losses = train_params['train_losses']\n",
        "\n",
        "plt.figure(figsize=(8, 4))\n",
        "n_avg = 50\n",
        "avg_loss = [1/n_avg * np.sum(train_losses[i*n_avg:(i+1)*n_avg]) for i in range(int(len(train_losses)/n_avg))]\n",
        "\n",
        "plt.semilogy(np.linspace(1,len(train_losses),len(train_losses)), train_losses)\n",
        "plt.semilogy(np.linspace(1,len(train_losses),int(len(train_losses)/n_avg)), avg_loss,'r')\n",
        "plt.xlabel('Step')\n",
        "plt.ylabel('Train Loss')"
      ],
      "execution_count": null,
      "outputs": [
        {
          "output_type": "execute_result",
          "data": {
            "text/plain": [
              "Text(0, 0.5, 'Train Loss')"
            ]
          },
          "metadata": {
            "tags": []
          },
          "execution_count": 15
        },
        {
          "output_type": "display_data",
          "data": {
            "image/png": "[encoded data removed]",
            "text/plain": [
              "<Figure size 576x288 with 1 Axes>"
            ]
          },
          "metadata": {
            "tags": [],
            "needs_background": "light"
          }
        }
      ]
    },
    {
      "cell_type": "markdown",
      "metadata": {
        "id": "f-_oM7wDsCCw"
      },
      "source": [
        "# Network Analysis"
      ]
    },
    {
      "cell_type": "markdown",
      "metadata": {
        "id": "7Vvmf9mAsKmO"
      },
      "source": [
        "### Hidden State Analysis"
      ]
    },
    {
      "cell_type": "code",
      "metadata": {
        "id": "13VicnnJsXtZ",
        "colab": {
          "base_uri": "https://localhost:8080/",
          "height": 124
        },
        "outputId": "6b462a22-aceb-4aa0-fe01-e995223c4c50"
      },
      "source": [
        "cell = syn_an.build_cell(rnn_specs)\n",
        "\n",
        "# Get RNN hidden states in response to a test batch.\n",
        "n_trials = 1000\n",
        "\n",
        "syn_data_test = syn.generate_data(n_trials, toy_params, rnn_specs['output_size'], auto_balance=True)\n",
        "\n",
        "hs = syn_an.rnn_states(cell, syn_data_test, rnn_params, only_final=False)\n",
        "pts = np.vstack(hs)[::2] # Gets every other state to eliminate states that are too close\n",
        "print(pts.shape)\n",
        "\n",
        "if rnn_specs['ro_bias']:\n",
        "  wO, bO = readout_params\n",
        "else:\n",
        "  wO = readout_params\n",
        "readout = wO.T\n",
        "print('Readout shape:', readout.shape)"
      ],
      "execution_count": null,
      "outputs": [
        {
          "output_type": "stream",
          "text": [
            "Using GRU cell\n",
            "Filtering out classes: []\n",
            "Looking for num per class: [950.  24.  24.   2.]\n",
            "Sythentic data generated in: 1.45 sec. Autobalanced: True. Uniform score: False\n",
            "(24500, 120)\n",
            "Readout shape: (2, 120)\n"
          ],
          "name": "stdout"
        }
      ]
    },
    {
      "cell_type": "code",
      "metadata": {
        "id": "6IMTOOtVsatc",
        "colab": {
          "base_uri": "https://localhost:8080/",
          "height": 461
        },
        "outputId": "d6d06fe0-ba4e-4ac6-e165-406ba8a3e52b"
      },
      "source": [
        "pc_dims = 5\n",
        "\n",
        "# Finds percentage of variance explained by top pc_dims of PCA\n",
        "pca_full = PCA(n_components=rnn_specs['hidden_size'])\n",
        "_ = pca_full.fit_transform(pts)\n",
        "explained_var = pca_full.explained_variance_ratio_\n",
        "print('Top', pc_dims, 'components:', np.sum(explained_var[:pc_dims]), '(', explained_var[:pc_dims],')')\n",
        "print('Participation Ratio:', syn_an.participation_ratio_vector(pca_full.explained_variance_))\n",
        "print('Copy this: PCA:', explained_var[:pc_dims], 'PR:', syn_an.participation_ratio_vector(pca_full.explained_variance_))\n",
        "total_exvar = []\n",
        "for i in range(rnn_specs['hidden_size']-1):\n",
        "  total_exvar.append(np.sum(explained_var[:i+1]))\n",
        "plt.figure()\n",
        "plt.plot(total_exvar[:20], 'k-o')\n",
        "\n",
        "# Group these states by the corresponding label.\n",
        "states = []\n",
        "for i in range(len(toy_params['sentiments'])):\n",
        "  states.append([h for h, lbl in zip(hs, syn_data_test['labels']) if np.argmax(lbl[toy_params['phrase_length']-1]) == i])\n",
        "  print('Category {} states:'.format(i), len(states[i]))\n",
        "\n",
        "# We use principal components analysis (PCA) for visualization.\n",
        "pca = PCA(n_components=pc_dims).fit(pts)\n",
        "comp = pca.components_ # pc_dims x n_hidden\n",
        "print('Readout vec proj via PCA:', pca.transform(readout).T)\n",
        "\n",
        "# The initial state.\n",
        "h0 = cell.get_initial_state(rnn_params)\n",
        "h0.shape"
      ],
      "execution_count": null,
      "outputs": [
        {
          "output_type": "stream",
          "text": [
            "Top 5 components: 0.9998787 ( [9.7444057e-01 2.1034453e-02 4.0861596e-03 2.1052717e-04 1.0701288e-04] )\n",
            "Participation Ratio: 1.0526387239741282\n",
            "Copy this: PCA: [9.7444057e-01 2.1034453e-02 4.0861596e-03 2.1052717e-04 1.0701288e-04] PR: 1.0526387239741282\n",
            "Category 0 states: 976\n",
            "Category 1 states: 24\n",
            "Readout vec proj via PCA: [[ 3.1039      3.1486285 ]\n",
            " [-0.7100274   0.6627815 ]\n",
            " [-0.12240034 -0.17562637]\n",
            " [ 0.39060995  0.362738  ]\n",
            " [ 0.03271325  0.05979139]]\n"
          ],
          "name": "stdout"
        },
        {
          "output_type": "execute_result",
          "data": {
            "text/plain": [
              "(120,)"
            ]
          },
          "metadata": {
            "tags": []
          },
          "execution_count": 27
        },
        {
          "output_type": "display_data",
          "data": {
            "image/png": "[encoded data removed]",
            "text/plain": [
              "<Figure size 432x288 with 1 Axes>"
            ]
          },
          "metadata": {
            "tags": [],
            "needs_background": "light"
          }
        }
      ]
    },
    {
      "cell_type": "code",
      "metadata": {
        "id": "bwZ5roaLsyGp",
        "colab": {
          "base_uri": "https://localhost:8080/",
          "height": 410
        },
        "outputId": "8782609b-b11a-461b-922c-aa011dae8858"
      },
      "source": [
        "# Here, we visualize the hidden states of the RNN, projected into a\n",
        "# low-dimensional 2D state space.\n",
        "\n",
        "plt.figure(figsize=(6, 6))\n",
        "\n",
        "pc1 = 0\n",
        "pc2 = 1\n",
        "\n",
        "# state_labels = ['Positive examples', 'Negative examples']\n",
        "state_labels = ['State {}'.format(i) for i in range(len(toy_params['sentiments']))]\n",
        "state_colors = ['g', 'b', 'r', 'y', 'orange', 'm', 'cyan', 'brown']\n",
        "for i in range(len(toy_params['sentiments'])):\n",
        "  if len(states[i]) > 0:\n",
        "    pca_states = pca.transform(np.vstack(states[i])).T\n",
        "    plt.plot(pca_states[pc1], pca_states[pc2], c = state_colors[i], marker='o', alpha=0.1, label=state_labels[i])\n",
        "\n",
        "# Plots readout direction\n",
        "pca_ro = pca.transform(readout)\n",
        "pca_zero = pca.transform(np.atleast_2d(np.zeros((rnn_specs['hidden_size'],)))).T\n",
        "for i in range(len(readout)):\n",
        "  # ro_dir = pca.transform(readout[i]).T #np.matmul(comp, readout[i])\n",
        "  x_ro = [pca_zero[pc1], pca_ro[i][pc1]]\n",
        "  y_ro = [pca_zero[pc2], pca_ro[i][pc2]]\n",
        "  plt.plot(x_ro, y_ro, state_colors[i], linewidth = 3, label='RO'+str(i))\n",
        "\n",
        "pca_h0 = pca.transform(np.atleast_2d(h0)).T\n",
        "plt.plot(pca_h0[pc1], pca_h0[pc2], 'ks', label='Initial state')\n",
        "\n",
        "# path_idxs = [52, 454, 252]\n",
        "# for path_idx in path_idxs:\n",
        "#   path_pca = pca.transform(hs[path_idx]).T #np.matmul(comp, hs[path_idx].T)\n",
        "#   plt.plot(path_pca[pc1], path_pca[pc2], state_colors[np.argmax(syn_data_test['labels'][path_idx][27])], marker='.', label='Random Path')\n",
        "#   print('Path label:', syn_data_test['labels'][path_idx][27])\n",
        "\n",
        "plt.xlabel('PC'+str(pc1+1))\n",
        "plt.ylabel('PC'+str(pc2+1))\n",
        "plot_coords = 8\n",
        "if plot_coords != None:\n",
        "  plt.xlim(-plot_coords, plot_coords)\n",
        "  plt.ylim(-plot_coords, plot_coords)\n",
        "\n",
        "plt.legend()"
      ],
      "execution_count": null,
      "outputs": [
        {
          "output_type": "execute_result",
          "data": {
            "text/plain": [
              "<matplotlib.legend.Legend at 0x7fe42c300320>"
            ]
          },
          "metadata": {
            "tags": []
          },
          "execution_count": 18
        },
        {
          "output_type": "display_data",
          "data": {
            "image/png": "[encoded data removed]",
            "text/plain": [
              "<Figure size 432x432 with 1 Axes>"
            ]
          },
          "metadata": {
            "tags": [],
            "needs_background": "light"
          }
        }
      ]
    },
    {
      "cell_type": "markdown",
      "metadata": {
        "id": "irlQ0TjVv012"
      },
      "source": [
        "#### Readout Vector Analysis"
      ]
    },
    {
      "cell_type": "code",
      "metadata": {
        "id": "OskfuEG-vgjw"
      },
      "source": [
        "from itertools import combinations \n",
        "\n",
        "def subspace_perc(A, b):\n",
        "  \"\"\"\n",
        "  A: an N x M matrix, whose column space represents some M-dimensional subspace\n",
        "  b: an N x P vector\n",
        "  For each of b's columns, finds the percentage of its magnitude which lies in \n",
        "  the subspace formed by the columns of A (its columnspace). Then averages these together\n",
        "  \"\"\"\n",
        "  proj = np.matmul(np.matmul(A, np.linalg.inv(np.matmul(A.T, A))), A.T) # N x N matrix\n",
        "  b_proj = np.matmul(proj, b) # N x P martix\n",
        "\n",
        "  norm_perc = np.linalg.norm(b_proj, axis=0)/np.linalg.norm(b, axis=0) # P dim vector\n",
        "\n",
        "  return np.mean(norm_perc)\n",
        "\n",
        "def ro_subspace_analysis(readout):\n",
        "  readout = np.asarray(readout)\n",
        "  ro_n = readout.shape[0]\n",
        "  indices = [i for i in range(ro_n)]\n",
        "  for ss_dim in range(1, ro_n): # Tries dimensions from 1 to ro_n - 1\n",
        "    comb = combinations(indices, ss_dim) # Gets all possible combinations\n",
        "    n_comb = 0\n",
        "    perc_vals = 0\n",
        "    for subspace_idxs in list(comb): # For each combination\n",
        "      n_comb += 1\n",
        "      A_idxs = list(subspace_idxs)\n",
        "      b_idxs = list(filter(lambda a: a not in list(subspace_idxs), indices))\n",
        "      A = readout[A_idxs]\n",
        "      b = readout[b_idxs] \n",
        "      perc_vals += subspace_perc(A.T, b.T)\n",
        "    print('Avg perc in rest for subspace dim {}:'.format(ss_dim), 1/n_comb * perc_vals)\n",
        "\n",
        "# Percentage of readout vector mag in PCA dimensions\n",
        "if rnn_specs['ro_bias']:\n",
        "  wO, bO = readout_params\n",
        "else:\n",
        "  wO = readout_params\n",
        "readout = wO.T\n",
        "\n",
        "print('Readout shape:', readout.shape)\n",
        "\n",
        "readout_mags = []\n",
        "readout_pca_mags = []\n",
        "pc_dims = 2\n",
        "for i in range(len(readout)):\n",
        "  readout_mags.append(np.linalg.norm(readout[i]))\n",
        "  readout_pca_mags.append(np.linalg.norm(np.matmul(comp, readout.T).T[i][:pc_dims]))\n",
        "  print('Readout {} mag:'.format(i), readout_mags[i])\n",
        "  print('Readout {}'.format(i), '(perc in first {} PC dims):'.format(pc_dims), readout_pca_mags[i]/readout_mags[i])\n",
        "\n",
        "print('Theoretical angle:', 180/np.pi * np.arccos(-1/(toy_params['n_unordered']-1)))\n",
        "\n",
        "for i in range(len(readout)):\n",
        "  for j in range(i):\n",
        "    print('Angle ({}, {}):'.format(i,j), 180/np.pi * np.arccos(np.dot(readout[i], readout[j])/(readout_mags[i]*readout_mags[j])))\n",
        "\n",
        "ro_subspace_analysis(readout)\n",
        "# indices = [i for i in range(len(readout))]\n",
        "# for i in range(len(readout)):\n",
        "#   A = []\n",
        "#   for j in range(len(readout)):\n",
        "#     if i != j:\n",
        "#       A.append(readout[j])\n",
        "#   print('Perc of {} in rest:'.format(i), subspace_perc(np.asarray(A).T, readout[i]))"
      ],
      "execution_count": null,
      "outputs": []
    },
    {
      "cell_type": "code",
      "metadata": {
        "id": "VegIakl2aEOl"
      },
      "source": [
        "# Exact symplex numbers\n",
        "\n",
        "simplex = []\n",
        "simplex.append(np.asarray([1,0,0]))\n",
        "simplex.append(np.asarray([-1/3, np.sqrt(8)/3, 0]))\n",
        "simplex.append(np.asarray([-1/3, -np.sqrt(2)/3, np.sqrt(2/3)]))\n",
        "simplex.append(np.asarray([-1/3, -np.sqrt(2)/3, -np.sqrt(2/3)]))\n",
        "\n",
        "read_out_mags = []\n",
        "for i in range(len(simplex)):\n",
        "  read_out_mags.append(np.linalg.norm(simplex[i]))\n",
        "\n",
        "print(read_out_mags)\n",
        "\n",
        "for i in range(len(simplex)):\n",
        "  for j in range(i):\n",
        "    print('Angle ({}, {}):'.format(i,j), 180/np.pi * np.arccos(np.dot(simplex[i], simplex[j])/(read_out_mags[i]*read_out_mags[j])))\n",
        "\n",
        "ro_subspace_analysis(simplex)"
      ],
      "execution_count": null,
      "outputs": []
    },
    {
      "cell_type": "markdown",
      "metadata": {
        "id": "UIrIXSmVWp6A"
      },
      "source": [
        "### Find Fixed Points"
      ]
    },
    {
      "cell_type": "code",
      "metadata": {
        "id": "MII5ShZAWY5r",
        "colab": {
          "base_uri": "https://localhost:8080/",
          "height": 52
        },
        "outputId": "e2fe72fd-d241-40fc-9efb-4df725bce52d"
      },
      "source": [
        "word = None\n",
        "if word == None:\n",
        "  # word_tensor = jnp.zeros(rnn_specs['input_size'])\n",
        "  word_tensor = 1/rnn_specs['input_size']*jnp.ones(rnn_specs['input_size'])\n",
        "else:\n",
        "  word_tensor = syn.wordToTensor(word, toy_params['words'])[0]\n",
        "\n",
        "print('Using word tensor:', word_tensor)\n",
        "\n",
        "pts_ones = jnp.ones((pts.shape[0],))\n",
        "xstar = jnp.outer(pts_ones, jnp.asarray(word_tensor))\n",
        "\n",
        "\n",
        "fp_loss_fun = renn.build_fixed_point_loss(cell, rnn_params)\n",
        "fixed_points, loss_hist, fp_losses = renn.find_fixed_points(fp_loss_fun, pts, xstar, optimizers.adam(0.01),\n",
        "                                                            tolerance=5e-3, steps=range(10000))\n",
        "print('Done')"
      ],
      "execution_count": null,
      "outputs": [
        {
          "output_type": "stream",
          "text": [
            "Using word tensor: [0.16666667 0.16666667 0.16666667 0.16666667 0.16666667 0.16666667]\n",
            "Done\n"
          ],
          "name": "stdout"
        }
      ]
    },
    {
      "cell_type": "code",
      "metadata": {
        "id": "ujZNI8OScsL2",
        "colab": {
          "base_uri": "https://localhost:8080/",
          "height": 295
        },
        "outputId": "40ef73f9-31d9-4ad5-a523-647046a03aa1"
      },
      "source": [
        "# 2D Visualization of the approximate fixed points\n",
        "\n",
        "pc1 = 0\n",
        "pc2 = 1\n",
        "\n",
        "plt.figure(figsize=(5, 4))\n",
        "pca_fps = pca.transform(np.vstack(fixed_points)).T\n",
        "plt.scatter(pca_fps[pc1], pca_fps[pc2], s=20, c=np.log10(fp_losses))\n",
        "plt.grid()\n",
        "\n",
        "plt.colorbar()\n",
        "\n",
        "# pca_word = 1*word_deflection('kinda0', cell, toy_params, rnn_params, rnn_specs, fixed_points[fp_idx], comp)\n",
        "# plt.plot([pca_h0[pc1], pca_word[pc1]], [pca_h0[pc2], pca_word[pc2]], color='k')\n",
        "# pca_word = 1*word_deflection('kinda1', cell, toy_params, rnn_params, rnn_specs, fixed_points[fp_idx], comp)\n",
        "# plt.plot([pca_h0[pc1], pca_word[pc1]], [pca_h0[pc2], pca_word[pc2]], color='r')\n",
        "# pca_word = 3*word_deflection('kinda01', cell, toy_params, rnn_params, rnn_specs, h0, comp)\n",
        "# plt.plot([pca_h0[pc1], pca_word[pc1]], [pca_h0[pc2], pca_word[pc2]], color='b')\n",
        "\n",
        "# Plots readout direction\n",
        "ro_colors = ['g', 'b', 'r', 'y', 'orange', 'm', 'cyan', 'brown']\n",
        "pca_ro = pca.transform(readout)\n",
        "pca_zero = pca.transform(np.atleast_2d(np.zeros((rnn_specs['hidden_size'],)))).T\n",
        "for i in range(len(readout)):\n",
        "  x_ro = [pca_zero[pc1], pca_ro[i][pc1]]\n",
        "  y_ro = [pca_zero[pc2], pca_ro[i][pc2]]\n",
        "  plt.plot(x_ro, y_ro, ro_colors[i], linewidth = 3, label='RO'+str(i))\n",
        "\n",
        "pca_h0 = pca.transform(np.atleast_2d(h0)).T\n",
        "plt.plot(pca_h0[pc1], pca_h0[pc2], '.', color='k', ms=18)\n",
        "plt.title('Fixed points')\n",
        "\n",
        "plt.xlabel('PC'+str(pc1+1))\n",
        "plt.ylabel('PC'+str(pc2+1))\n",
        "\n",
        "plot_coords = 8\n",
        "if plot_coords != None:\n",
        "  plt.xlim(-plot_coords, plot_coords)\n",
        "  plt.ylim(-plot_coords, plot_coords)"
      ],
      "execution_count": null,
      "outputs": [
        {
          "output_type": "display_data",
          "data": {
            "image/png": "[encoded data removed]",
            "text/plain": [
              "<Figure size 360x288 with 2 Axes>"
            ]
          },
          "metadata": {
            "tags": [],
            "needs_background": "light"
          }
        }
      ]
    },
    {
      "cell_type": "code",
      "metadata": {
        "id": "coIotNR4BJYo"
      },
      "source": [
        "# triangulate in the underlying parametrization\n",
        "from matplotlib.tri import Triangulation\n",
        "\n",
        "pc1 = 0\n",
        "pc2 = 1\n",
        "pc3 = 2\n",
        "\n",
        "fig = plt.figure(figsize=(15, 5))\n",
        "ax = fig.add_subplot(131, projection='3d');\n",
        "ax2 = fig.add_subplot(132, projection='3d');\n",
        "ax3 = fig.add_subplot(133, projection='3d');\n",
        "\n",
        "\n",
        "pca_fps = pca.transform(np.vstack(fixed_points)).T\n",
        "# max_loss = np.max(np.log10(fp_losses))\n",
        "# min_loss = np.min(np.log10(fp_losses))\n",
        "# loss_range = max_loss - min_loss\n",
        "# colors = []\n",
        "# for loss in fp_losses:\n",
        "#   seq_color_norm = (np.log10(loss)-min_loss)/loss_range\n",
        "#   colors.append((seq_color_norm, 0, 1 - seq_color_norm, 1.0))\n",
        "# ax.plot_trisurf(pca_fps[pc1], pca_fps[pc2], pca_fps[pc3], edgecolor='none', color='grey')\n",
        "ax.scatter(pca_fps[pc1], pca_fps[pc2], pca_fps[pc3], s=20, c=np.log10(fp_losses))\n",
        "ax2.scatter(pca_fps[pc1], pca_fps[pc2], pca_fps[pc3], s=20, c=np.log10(fp_losses))\n",
        "ax3.scatter(pca_fps[pc1], pca_fps[pc2], pca_fps[pc3], s=20, c=np.log10(fp_losses))\n",
        "\n",
        "# Plots readout direction\n",
        "# ro_colors = ['g', 'b', 'r', 'y', 'orange', 'm', 'cyan', 'brown']\n",
        "# for i in range(len(readout)):\n",
        "#   ro_dir = np.matmul(comp, readout[i])\n",
        "#   x_ro = [pca_h0[pc1], ro_dir[pc1]]\n",
        "#   y_ro = [pca_h0[pc2], ro_dir[pc2]]\n",
        "#   z_ro = [pca_h0[pc3], ro_dir[pc3]]\n",
        "#   plt.plot(x_ro, y_ro, z_ro, ro_colors[i], linewidth = 3)\n",
        "\n",
        "pca_h0 = pca.transform(np.atleast_2d(h0)).T\n",
        "plt.plot(pca_h0[pc1], pca_h0[pc2], pca_h0[pc3], '*', color='lightcoral', ms=18)\n",
        "plt.title('Fixed points')\n",
        "\n",
        "# pca_word = 3*word_deflection('very1', cell, toy_params, rnn_params, rnn_specs, h0, comp)\n",
        "# plt.plot([pca_h0[pc1], pca_word[pc1]], [pca_h0[pc2], pca_word[pc2]], color='k')\n",
        "# pca_word = 3*word_deflection('very0', cell, toy_params, rnn_params, rnn_specs, h0, comp)\n",
        "# plt.plot([pca_h0[pc1], pca_word[pc1]], [pca_h0[pc2], pca_word[pc2]], color='r')\n",
        "# pca_word = 3*word_deflection('kinda01', cell, toy_params, rnn_params, rnn_specs, h0, comp)\n",
        "# plt.plot([pca_h0[pc1], pca_word[pc1]], [pca_h0[pc2], pca_word[pc2]], color='b')\n",
        "\n",
        "ax.set_xlabel('PC'+str(pc1+1))\n",
        "ax.set_ylabel('PC'+str(pc2+1))\n",
        "ax.set_zlabel('PC'+str(pc3+1))\n",
        "\n",
        "# Azimuthal angle and rotation\n",
        "ax.view_init(20, 0)\n",
        "ax2.view_init(20, 120)\n",
        "ax3.view_init(20, 240)"
      ],
      "execution_count": null,
      "outputs": []
    },
    {
      "cell_type": "markdown",
      "metadata": {
        "id": "aKyXHU_lBK9X"
      },
      "source": [
        "#### Single Fixed Point Analysis"
      ]
    },
    {
      "cell_type": "code",
      "metadata": {
        "id": "6egsLt1JcxTD"
      },
      "source": [
        "# Pick a fixed point.\n",
        "# fp_idx = np.argmin(fp_losses)\n",
        "fp_idx = np.random.randint(fixed_points.shape[0])\n",
        "fp = fixed_points[fp_idx]\n",
        "\n",
        "# 2D Visualization of where said fixed point is\n",
        "pc1 = 0\n",
        "pc2 = 1\n",
        "\n",
        "plt.figure(figsize=(5, 4))\n",
        "pca_fps = pca.transform(np.vstack(fixed_points)).T\n",
        "plt.scatter(pca_fps[pc1], pca_fps[pc2], s=20, c='b')\n",
        "plt.scatter(pca_fps[pc1][fp_idx], pca_fps[pc2][fp_idx], s=50, c='r')\n",
        "\n",
        "plt.title('Fixed points')\n",
        "\n",
        "plt.xlabel('PC'+str(pc1+1))\n",
        "plt.ylabel('PC'+str(pc2+1))"
      ],
      "execution_count": null,
      "outputs": []
    },
    {
      "cell_type": "code",
      "metadata": {
        "id": "mdWZE0KOdiEu"
      },
      "source": [
        "# Computes the recurrent Jacobian.\n",
        "jac = jax.device_get(cell.rec_jac(rnn_params, jnp.zeros(rnn_specs['input_size']), fp))\n",
        "\n",
        "# Perform an eigendecomposition to get eigenvectors and eigenvalues.\n",
        "R, E, L = renn.eigsorted(jac)"
      ],
      "execution_count": null,
      "outputs": []
    },
    {
      "cell_type": "code",
      "metadata": {
        "id": "PGa4bTHKdkvO"
      },
      "source": [
        "plt.figure(figsize=(10,10))\n",
        "plt.plot(np.real(E), np.imag(E), 'o', ms=10)\n",
        "plt.grid()\n",
        "plt.xlim(0, 1.2)\n",
        "plt.ylim(-0.6, 0.6)\n",
        "# Makes unit circle\n",
        "x = np.linspace(-1, 1, 1000)\n",
        "plt.plot(x, np.sqrt(1-x**2), 'k')\n",
        "plt.plot(x, -np.sqrt(1-x**2), 'k')\n",
        "\n",
        "plt.title('Jacobian eigenvalues')\n",
        "plt.xlabel('real')\n",
        "plt.ylabel('imag')\n",
        "\n",
        "print('Top 2 Eigenvalues:', np.real(E[:2]))"
      ],
      "execution_count": null,
      "outputs": []
    },
    {
      "cell_type": "code",
      "metadata": {
        "id": "oXbbKB5c4UOv"
      },
      "source": [
        "pca_jac = pca.transform(pca.transform(jac).T)\n",
        "R, E, L = renn.eigsorted(pca_jac)\n",
        "print('Eigenvalues:', E)\n",
        "print('R vecs', R)\n",
        "print('L vecs', L)"
      ],
      "execution_count": null,
      "outputs": []
    },
    {
      "cell_type": "code",
      "metadata": {
        "id": "Oh4rIW8-6n5o"
      },
      "source": [
        "fp = fixed_points[fp_idx]\n",
        "print('FP', fixed_points[fp_idx])\n",
        "\n",
        "cell = build_cell(rnn_specs)\n",
        "# word_tensor = 1/4*jnp.ones(rnn_specs['input_size'])\n",
        "word_tensor = jnp.zeros(rnn_specs['input_size'])\n",
        "new_state = cell.apply(rnn_params, word_tensor, fp)\n",
        "\n",
        "update_gate = rnn_params['update_gate']\n",
        "reset_gate = rnn_params['reset_gate']\n",
        "cell_state = rnn_params['cell_state']\n",
        "\n",
        "update = jax.nn.sigmoid(update_gate.apply(word_tensor, fp) + cell.gate_bias)\n",
        "reset = jax.nn.sigmoid(reset_gate.apply(word_tensor, fp))\n",
        "cell_val = jnp.tanh(cell_state.apply(word_tensor, reset * fp))\n",
        "new_state_m = update * fp + (1 - update) * cell_val\n",
        "\n",
        "print('Loss', 1/2*np.linalg.norm(fp-new_state)**2)\n",
        "print('State Mag', np.linalg.norm(fp))\n",
        "print('New State Mag', np.linalg.norm(new_state))\n",
        "print('State New State dot', np.dot(fp, new_state)/(np.linalg.norm(fp)*np.linalg.norm(new_state)))\n",
        "print('Reset Mag', np.linalg.norm(reset))\n",
        "print('Update Mag', np.linalg.norm(update))\n",
        "print('Reset*fp Mag', np.linalg.norm(reset * fp))\n",
        "print('Cell_val Mag', np.linalg.norm(cell_val))\n",
        "print('Update * fp Mag', np.linalg.norm(update * fp))\n",
        "print('(1 - Update) * cell_val', np.linalg.norm((1 - update) * cell_val))\n",
        "print('Sum of mags', np.linalg.norm(update * fp)+np.linalg.norm((1 - update) * cell_val))\n",
        "print('Ratio of mags', np.linalg.norm(update * fp)/np.linalg.norm((1 - update) * cell_val))\n",
        "print('(Update * fp).fp', np.dot(update * fp, fp)/(np.linalg.norm(update * fp)*np.linalg.norm(fp)))\n",
        "print('(1 - Update) * cell_val', np.linalg.norm((1 - update) * cell_val))\n",
        "\n",
        "pca_fp = pca.transform(np.atleast_2d(fp))\n",
        "pca_new_state = pca.transform(np.atleast_2d(new_state))\n",
        "pca_reset = pca.transform(np.atleast_2d(reset))\n",
        "pca_update = pca.transform(np.atleast_2d(update))\n",
        "pca_cell_val = pca.transform(np.atleast_2d(cell_val))\n",
        "pca_term1 = pca.transform(np.atleast_2d(update * fp))\n",
        "pca_term2 = pca.transform(np.atleast_2d((1 - update) * cell_val))\n",
        "\n",
        "print('PCA fixed point:', pca_fp)\n",
        "print('PCA New State:', pca_new_state)\n",
        "print('PCA Loss:',  1/2*np.linalg.norm(pca_fp-pca_new_state)**2)\n",
        "print('PCA Reset', pca_reset)\n",
        "print('PCA Update', pca_update)\n",
        "print('PCA Cell', pca_cell_val)\n",
        "print('PCA Update * fp', pca_term1)\n",
        "print('PCA (1 - Update) * cell_val', pca_term2)\n",
        "\n",
        "plt.figure(figsize=(8,8))\n",
        "# plt.scatter([i for i in range(rnn_specs['hidden_size'])], update)\n",
        "# plt.scatter([i for i in range(rnn_specs['hidden_size'])], reset)\n",
        "plt.scatter([i for i in range(rnn_specs['hidden_size'])], fp, label='Old Hidden State')\n",
        "plt.scatter([i for i in range(rnn_specs['hidden_size'])], (1 - update) * cell_val, label='(1-update) * Cell')\n",
        "plt.scatter([i for i in range(rnn_specs['hidden_size'])], update * fp, label='update * Old Hidden State')\n",
        "plt.scatter([i for i in range(rnn_specs['hidden_size'])], new_state, c='y',  marker='.', label='New Hidden State')\n",
        "\n",
        "plt.xlabel('Hidden Space Index')\n",
        "plt.ylabel('Value')\n",
        "plt.title('GRU Slow Point Analysis')\n",
        "\n",
        "plt.legend()"
      ],
      "execution_count": null,
      "outputs": []
    },
    {
      "cell_type": "code",
      "metadata": {
        "id": "rMsZnB57ET48"
      },
      "source": [
        "print('FP', fixed_points[fp_idx])\n",
        "print('pca FP', np.matmul(comp, fixed_points[fp_idx]))\n",
        "print('Update', update)\n",
        "print('Reset', reset)\n",
        "print('Reset * fp',  reset * fp)\n",
        "print('Cell value', cell_val)\n",
        "print('Cell value applied', np.tanh(np.matmul(cell_state.W, reset * fp)+cell_state.b))\n",
        "print('Cell value pre-tanh', np.matmul(cell_state.W, reset * fp)+cell_state.b)\n",
        "\n",
        "update_gate = rnn_params['update_gate']\n",
        "reset_gate = rnn_params['reset_gate']\n",
        "cell_state = rnn_params['cell_state']\n",
        "\n",
        "print('Cell state W', cell_state.W)\n",
        "print('Cell state bias', cell_state.b)\n",
        "print('Reset gate W', reset_gate.W)\n",
        "print('Updat gate W', update_gate.W)\n",
        "print('Updat gate b', update_gate.b)\n",
        "print('Cell gate bias', cell.gate_bias)\n",
        "\n",
        "plt.figure()\n",
        "plt.scatter([i for i in range(9)], update_gate.W.reshape(3*3))\n",
        "plt.scatter([i for i in range(9)], reset_gate.W.reshape(3*3))\n",
        "plt.scatter([i for i in range(9)], cell_state.W.reshape(3*3))"
      ],
      "execution_count": null,
      "outputs": []
    },
    {
      "cell_type": "markdown",
      "metadata": {
        "id": "C7taVScYYvaf"
      },
      "source": [
        "#### Fixed Point Grid Search"
      ]
    },
    {
      "cell_type": "code",
      "metadata": {
        "id": "GzXSxS9HYyCa"
      },
      "source": [
        "# Average distance traveled\n",
        "avg_step_sizes = np.zeros((len(hs),))\n",
        "for hs_idx in range(len(hs)):\n",
        "  hs_h0 = np.concatenate([hs[hs_idx], h0[np.newaxis, :]], axis=0)\n",
        "  total_dist = 0\n",
        "  for time_idx in range(hs_h0.shape[0] - 1):\n",
        "    total_dist += np.sqrt(np.sum((hs_h0[time_idx+1] - hs_h0[time_idx])**2))\n",
        "  avg_step_sizes[hs_idx] = total_dist/hs[hs_idx].shape[0]\n",
        "\n",
        "print('Mean distance:', np.mean(avg_step_sizes))\n",
        "print('Treshold conversion:', (2*np.mean(avg_step_sizes))**2)\n",
        "\n",
        "# Histogram of mean distance\n",
        "plt.hist(avg_step_sizes, bins=10)\n",
        "plt.show()"
      ],
      "execution_count": null,
      "outputs": []
    },
    {
      "cell_type": "code",
      "metadata": {
        "id": "lpZil2DTY55E"
      },
      "source": [
        "pca_full = PCA(n_components=rnn_specs['hidden_size'])\n",
        "pts_pca = pca_full.fit_transform(pts)\n",
        "pr_hs = participation_ratio_vector(pca_full.explained_variance_)\n",
        "print('Participation Ratio of Hidden States:', pr_hs)\n",
        "\n",
        "grid_dims = np.int(np.ceil(pr_hs))\n",
        "print(\"Grid over first {} PC dimensions\".format(grid_dims))\n",
        "\n",
        "range_extend_ratio = 1 # Amount to extend total range\n",
        "max_points = 30 # Maximum points along biggest dimension\n",
        "grid_coords = []\n",
        "spacing = 0\n",
        "\n",
        "for dim_idx in range(grid_dims):\n",
        "  max_co = np.max(pts_pca[:,dim_idx])\n",
        "  min_co = np.min(pts_pca[:,dim_idx])\n",
        "  range_co = np.copy(max_co - min_co)\n",
        "\n",
        "  max_co += range_extend_ratio/2 * range_co # Extend range\n",
        "  min_co -= range_extend_ratio/2 * range_co\n",
        "\n",
        "  if dim_idx == 0:\n",
        "    spacing = (max_co - min_co)/max_points                                    \n",
        "\n",
        "  grid_coords.append(np.linspace(min_co, max_co, num=np.int(np.ceil((max_co - min_co)/spacing))))\n",
        "  print('In PC{} dim, using {} points'.format(dim_idx, np.int(np.ceil((max_co - min_co)/spacing))))\n",
        "\n",
        "# Creates grid and turns them into PCA points\n",
        "grid_vals = np.asarray(np.meshgrid(*grid_coords))\n",
        "grid_vals_flat = grid_vals.reshape(grid_vals.shape[0], np.prod(grid_vals.shape[1:]))\n",
        "print('Total hidden states:',  np.prod(grid_vals.shape[1:]))\n",
        "pca_points = np.zeros((grid_vals_flat.shape[1], rnn_specs['hidden_size']))\n",
        "pca_points[:, :grid_dims] = grid_vals_flat.T\n",
        "\n",
        "# Transform back into hidden state space\n",
        "hs_grid_points =  jnp.asarray(pca_full.inverse_transform(pca_points))\n",
        "print('Hs grid points shape', hs_grid_points.shape)\n",
        "\n",
        "# Fixed point state search\n",
        "word_tensor = jnp.zeros(rnn_specs['input_size'])\n",
        "\n",
        "hs_ones = jnp.ones((hs_grid_points.shape[0],))\n",
        "xstar = jnp.outer(hs_ones, jnp.asarray(word_tensor))\n",
        "\n",
        "fp_loss_fun = renn.build_fixed_point_loss(cell, rnn_params)\n",
        "fp_losses = fp_loss_fun(hs_grid_points, xstar)"
      ],
      "execution_count": null,
      "outputs": []
    },
    {
      "cell_type": "code",
      "metadata": {
        "id": "7aS6-DZjpSz8"
      },
      "source": [
        "thresh = 0.01\n",
        "hs_grid_thresh = hs_grid_points[fp_losses < thresh]\n",
        "fp_losses_thresh = fp_losses[fp_losses < thresh]\n",
        "print('Number of points', hs_grid_thresh.shape[0])\n",
        "\n",
        "k_val = 100\n",
        "r_range = (-0.5, 0)\n",
        "\n",
        "pca_fps = PCA(n_components=rnn_specs['hidden_size'])\n",
        "_ = pca_fps.fit_transform(hs_grid_thresh)\n",
        "explained_var = pca_fps.explained_variance_ratio_\n",
        "print('Top', pc_dims, 'components:', np.sum(explained_var[:pc_dims]), '(', explained_var[:pc_dims],')')\n",
        "print('Participation Ratio:', participation_ratio_vector(pca_fps.explained_variance_))\n",
        "\n",
        "distances = pdist(hs_grid_thresh, metric=\"euclidean\") # n_fp * (n_fps-1) / 2\n",
        "dist_sq = squareform(distances) # n_fp x n_fp \n",
        "\n",
        "print('m_k Value:', find_m_k(k_val, dist_sq))\n",
        "corr_dim, _, _, _, _ = find_correlation_dimension(r_range, dist_sq, show_plot=False)\n",
        "print('Correlation Dimension:', corr_dim)"
      ],
      "execution_count": null,
      "outputs": []
    },
    {
      "cell_type": "code",
      "metadata": {
        "id": "ly84ZoWzzxvO"
      },
      "source": [
        "num_pts = 5\n",
        "thresh_vals = np.logspace(-1, np.log10(0.048), num_pts)\n",
        "\n",
        "pr_vals = np.zeros((num_pts,))\n",
        "k_val = 100\n",
        "m_k_vals = np.zeros((num_pts,))\n",
        "r_range = (-0.5, 0)\n",
        "corr_dim_vals = np.zeros((num_pts,))\n",
        "\n",
        "for thresh_idx in range(len(thresh_vals)):\n",
        "  hs_grid_thresh = hs_grid_points[fp_losses < thresh_vals[thresh_idx]]\n",
        "  print('Number of points', hs_grid_thresh.shape[0])\n",
        "  pca_fps = PCA(n_components=rnn_specs['hidden_size'])\n",
        "  _ = pca_fps.fit_transform(hs_grid_thresh)\n",
        "  pr_vals[thresh_idx] = participation_ratio_vector(pca_fps.explained_variance_)\n",
        "\n",
        "  distances = pdist(hs_grid_thresh, metric=\"euclidean\") # n_fp * (n_fps-1) / 2\n",
        "  dist_sq = squareform(distances) # n_fp x n_fp \n",
        "\n",
        "  m_k_vals[thresh_idx] = find_m_k(k_val, dist_sq)\n",
        "  corr_dim_vals[thresh_idx], _, _, _, _ = find_correlation_dimension(r_range, dist_sq, show_plot=False)\n",
        "\n",
        "plt.figure(figsize=(6, 6))\n",
        "plt.semilogx(thresh_vals, pr_vals, label='Participation ratio')\n",
        "plt.semilogx(thresh_vals, m_k_vals, label='m_k for k='+str(k_val))\n",
        "plt.semilogx(thresh_vals, corr_dim_vals, label='Correlation Dimension')\n",
        "plt.xlabel('Threshold')\n",
        "plt.ylabel('Dimensionality Measure')"
      ],
      "execution_count": null,
      "outputs": []
    },
    {
      "cell_type": "code",
      "metadata": {
        "id": "ZV_eJO_81mhZ"
      },
      "source": [
        "corr_dim_vals"
      ],
      "execution_count": null,
      "outputs": []
    },
    {
      "cell_type": "markdown",
      "metadata": {
        "id": "dFSSRZS_7h_D"
      },
      "source": [
        "#### Many Fixed Point Analysis"
      ]
    },
    {
      "cell_type": "code",
      "metadata": {
        "id": "hagFeS8v3qMa"
      },
      "source": [
        "# Jacobian projections\n",
        "def word_deflection(word, cell, toy_params, rnn_params, rnn_specs, hs, comp):\n",
        "  \"\"\" Returns (linearized) deflection of word from hs in terms of pcs of comp\"\"\" \n",
        "  word_tensor = wordToTensor(word, toy_params['words'])\n",
        "  input_jac = cell.inp_jac(rnn_params, jnp.zeros(rnn_specs['input_size']), hs)\n",
        "  hidden_update = np.matmul(input_jac, word_tensor[0])\n",
        "  \n",
        "  return np.matmul(comp, hidden_update)\n",
        "\n",
        "def hs_modes(n_eigs, cell, toy_params, rnn_params, rnn_specs, hs, comp):\n",
        "  \"\"\" Returns deflection of top n_eigs eigenvalues from hs in terms of pcs of comp\"\"\" \n",
        "  jac = jax.device_get(cell.rec_jac(rnn_params, jnp.zeros(rnn_specs['input_size']), hs))\n",
        "  R, E, L = renn.eigsorted(jac)\n",
        "\n",
        "  print('HS top eigenvalues:', E[:n_eigs+1])\n",
        "\n",
        "  return np.matmul(comp, R[:, :n_eigs]).T"
      ],
      "execution_count": null,
      "outputs": []
    },
    {
      "cell_type": "code",
      "metadata": {
        "id": "aTmSJKd7w358"
      },
      "source": [
        "# Plots Jacobian eigenvalues as a function of fixed point\n",
        "\n",
        "pca_fps = pca.transform(np.vstack(fixed_points)).T\n",
        "\n",
        "# Sorts fixed points by pc dimension\n",
        "# sort_idxs = np.argsort(pca_fps[0])\n",
        "# sorted_pca_fps = pca_fps[0][sort_idxs]\n",
        "# sorted_fp = fixed_points[sort_idxs]\n",
        "\n",
        "# Sorts fixed points by distance from mean fixed point\n",
        "fp_mean = np.mean(fixed_points, axis=0)\n",
        "fp_dist = np.zeros((fixed_points.shape[0],))\n",
        "for fp_idx in range(fixed_points.shape[0]):\n",
        "  fp_dist[fp_idx] = np.linalg.norm(fixed_points[fp_idx]-fp_mean, ord=1)\n",
        "sort_idxs = np.argsort(fp_dist)\n",
        "sorted_fpidx = fp_dist[sort_idxs]\n",
        "sorted_fp = fixed_points[sort_idxs]\n",
        "\n",
        "\n",
        "take_every = 25\n",
        "n_top = 8\n",
        "n_fp = len(fixed_points)\n",
        "print('Evaluating {} fixed points.'.format(n_fp))\n",
        "max_evals = np.zeros((int(n_fp/take_every), n_top))\n",
        "max_evals_im = np.zeros((int(n_fp/take_every), n_top))\n",
        "pc_dim_val = np.zeros(int(n_fp/take_every))\n",
        "\n",
        "for i in tqdm(range(0, int(n_fp/take_every))):\n",
        "  fp = sorted_fp[i*take_every]\n",
        "  jac = jax.device_get(cell.rec_jac(rnn_params, jnp.zeros(rnn_specs['input_size']), fp))\n",
        "  _, E, _ = renn.eigsorted(jac)\n",
        "  rE = np.real(E)\n",
        "  iE = np.imag(E)\n",
        "  rE.sort()\n",
        "  iE.sort()\n",
        "  pc_dim_val[i] = sorted_fpidx[i*take_every]\n",
        "  max_evals[i] = rE[-n_top:]\n",
        "  max_evals_im[i] = iE[-n_top:]"
      ],
      "execution_count": null,
      "outputs": []
    },
    {
      "cell_type": "code",
      "metadata": {
        "id": "VZutYrOh62-a"
      },
      "source": [
        "plt.figure(figsize=(10,10))\n",
        "plt.axhline(1.0, c='k', linestyle='--')\n",
        "colors = ['r', 'orange', 'y', 'g', 'b', 'm', 'brown', 'k']\n",
        "for i in range(n_top):\n",
        "  plt.plot(pc_dim_val, max_evals[:,n_top-1-i], '.-', ms=10, c=colors[i])\n",
        "\n",
        "plt.xlabel('PC1')\n",
        "plt.xlabel('Distance from mean fixed_point')\n",
        "plt.ylabel('Top Re(Eigenvalues)')\n",
        "\n",
        "plt.figure(figsize=(10,10))\n",
        "colors = ['r', 'orange', 'y', 'g', 'b', 'm', 'brown', 'k']\n",
        "for i in range(n_top):\n",
        "  plt.plot(pc_dim_val, max_evals_im[:,n_top-1-i], '.-', ms=10, c=colors[i])\n",
        "\n",
        "plt.xlabel('PC1')\n",
        "plt.xlabel('Distance from mean fixed_point')\n",
        "plt.ylabel('Top Im(Eigenvalues)')"
      ],
      "execution_count": null,
      "outputs": []
    },
    {
      "cell_type": "code",
      "metadata": {
        "id": "FvmAe--5ybSD"
      },
      "source": [
        "print('Number of fixed points:', len(fixed_points))"
      ],
      "execution_count": null,
      "outputs": []
    },
    {
      "cell_type": "code",
      "metadata": {
        "id": "OVR6C_MfE4rx"
      },
      "source": [
        "# Zero modes\n",
        "fp_idxs =[600, 1000, 4000, 22000, 24000]\n",
        "num_eigs = 2\n",
        "scale = 1 # Amount to scale up eigenvalues\n",
        "\n",
        "# 2D Visualization of where said fixed point is\n",
        "pc1 = 0\n",
        "pc2 = 1\n",
        "plt.figure(figsize=(8, 8))\n",
        "\n",
        "# Sorts fixed points by pc1 dimension\n",
        "pca_fps = pca.transform(np.vstack(fixed_points)).T\n",
        "sort_idxs = np.argsort(pca_fps[pc1])\n",
        "sorted_fp = fixed_points[sort_idxs]\n",
        "\n",
        "pca_fps = pca.transform(np.vstack(sorted_fp)).T\n",
        "plt.scatter(pca_fps[pc1], pca_fps[pc2], alpha=0.05, s=20, c='k')\n",
        "\n",
        "eig_colors = ['r', 'g', 'm', 'b', 'orange', 'grey']\n",
        "for fp_idx in fp_idxs:\n",
        "  mode_proj = scale * np.real(hs_modes(num_eigs, cell, toy_params, rnn_params, rnn_specs, sorted_fp[fp_idx], comp))\n",
        "  for i in range(num_eigs):\n",
        "    plt.plot(pca_fps[pc1][fp_idx] + [0, mode_proj[i][pc1]], pca_fps[pc2][fp_idx] + [0, mode_proj[i][pc2]], eig_colors[i], linewidth=3)\n",
        "  plt.scatter(pca_fps[pc1][fp_idx], pca_fps[pc2][fp_idx], s=50, c='y')\n",
        "\n",
        "plt.title('Fixed points')\n",
        "\n",
        "plt.xlabel('PC'+str(pc1+1))\n",
        "plt.ylabel('PC'+str(pc2+1))"
      ],
      "execution_count": null,
      "outputs": []
    },
    {
      "cell_type": "code",
      "metadata": {
        "id": "pcJA8HmMeBgB"
      },
      "source": [
        "word_tensor = wordToTensor('not', toy_params['words'])\n",
        "\n",
        "# Finds deflection of RNNs for a given input\n",
        "ref_idx = 400\n",
        "ref_fp = fixed_points[ref_idx]\n",
        "def_state = cell.apply(rnn_params, word_tensor[0], ref_fp)\n",
        "delta_hnot_ref = def_state - ref_fp\n",
        "delta_hnot_ref_mag = np.linalg.norm(delta_hnot_ref)\n",
        "\n",
        "# Sorts fixed points by pc1 dimension\n",
        "pca_fps = pca.transform(np.vstack(fixed_points)).T\n",
        "sort_idxs = np.argsort(pca_fps[0])\n",
        "sorted_pca_fps = pca_fps[0][sort_idxs]\n",
        "sorted_fp = fixed_points[sort_idxs]\n",
        "\n",
        "take_every = 10\n",
        "n_fp = len(fixed_points)\n",
        "n_eval = int(n_fp/take_every)\n",
        "\n",
        "def_state = np.zeros((n_eval, rnn_specs['hidden_size']))\n",
        "delta_hnot = np.zeros((n_eval, rnn_specs['hidden_size']))\n",
        "hnot_angles = np.zeros((n_eval,))\n",
        "hnot_mags = np.zeros((n_eval,))\n",
        "pc_dim_val = np.zeros((n_eval,))\n",
        "for i in tqdm(range(0, n_eval)):\n",
        "  def_state[i] = cell.apply(rnn_params, word_tensor[0], sorted_fp[i*take_every])\n",
        "  delta_hnot[i] = def_state[i] - sorted_fp[i*take_every]\n",
        "  pc_dim_val[i] = sorted_pca_fps[i*take_every]\n",
        "  hnot_mags[i] = np.linalg.norm(delta_hnot[i])\n",
        "  hnot_angles[i] = 180/np.pi * np.arccos(np.dot(delta_hnot[i], delta_hnot_ref)/(hnot_mags[i]*delta_hnot_ref_mag))\n",
        "\n",
        "delta_hnot_mean = np.mean(delta_hnot)\n",
        "hnot_perc_diff = np.zeros((n_eval,))\n",
        "for i in range(0, n_eval):\n",
        "  mean_diff = delta_hnot[i] - delta_hnot_mean\n",
        "  hnot_perc_diff[i] = np.linalg.norm(mean_diff)/hnot_mags[i]"
      ],
      "execution_count": null,
      "outputs": []
    },
    {
      "cell_type": "code",
      "metadata": {
        "id": "RjheCTglpXZr"
      },
      "source": [
        "plt.figure(figsize=(15,5))\n",
        "ax1 = plt.subplot('131')\n",
        "ax1.axhline(0.0, c='k', linestyle='--')\n",
        "ax1.plot(pc_dim_val, hnot_angles, 'r-', marker='.')\n",
        "ax1.plot(pca_fps[0][ref_idx], [0.0], 'b-o')\n",
        "\n",
        "ax1.set_xlabel('PC1')\n",
        "ax1.set_ylabel('Angle (degrees) to reference Delta h_not (in blue)')\n",
        "\n",
        "ax2 = plt.subplot('132')\n",
        "ax2.axhline(1.0, c='k', linestyle='--')\n",
        "ax2.plot(pc_dim_val, hnot_mags, 'r-', marker='.')\n",
        "\n",
        "ax2.set_xlabel('PC1')\n",
        "ax2.set_ylabel('Mag of Delta h_not')\n",
        "\n",
        "ax3 = plt.subplot('133')\n",
        "ax3.plot(pc_dim_val, hnot_perc_diff, 'r-', marker='.')\n",
        "\n",
        "ax3.set_xlabel('PC1')\n",
        "ax3.set_ylabel('Perc diff from mean')"
      ],
      "execution_count": null,
      "outputs": []
    },
    {
      "cell_type": "code",
      "metadata": {
        "id": "Dy3oTEm6vcpv"
      },
      "source": [
        "# Plots fixed points and deflected states\n",
        "\n",
        "# 2D Visualization of where said fixed point is\n",
        "pc1 = 0\n",
        "pc2 = 1\n",
        "\n",
        "plt.figure(figsize=(5, 4))\n",
        "pca_fps = pca.transform(np.vstack(fixed_points)).T\n",
        "plt.scatter(pca_fps[pc1], pca_fps[pc2], s=20, c='b')\n",
        "\n",
        "pca_defs = pca.transform(np.vstack(def_state)).T\n",
        "plt.scatter(pca_defs[pc1], pca_defs[pc2], s=20, c='r')\n",
        "\n",
        "plt.title('Fixed points and not deflections')\n",
        "\n",
        "plt.xlabel('PC'+str(pc1+1))\n",
        "plt.ylabel('PC'+str(pc2+1))"
      ],
      "execution_count": null,
      "outputs": []
    },
    {
      "cell_type": "markdown",
      "metadata": {
        "id": "IzZ6OeoEF9qn"
      },
      "source": [
        "#### Readout Space Projection"
      ]
    },
    {
      "cell_type": "code",
      "metadata": {
        "id": "_XTyY2zvF_m8"
      },
      "source": [
        "# Project hidden states onto the readout space\n",
        "ro1 = 0\n",
        "ro2 = 1\n",
        "\n",
        "# Creates basis vectors for the readout space\n",
        "x_basis = readout[ro1] / np.linalg.norm(readout[ro1])\n",
        "y_vec = readout[ro2] - np.dot(x_basis, readout[ro2]) * x_basis\n",
        "y_basis = y_vec / np.linalg.norm(y_vec)\n",
        "print('x', np.linalg.norm(x_basis))\n",
        "print('y', np.linalg.norm(y_basis))\n",
        "print('x.y', np.dot(x_basis, y_basis))\n",
        "\n",
        "A = np.array([x_basis, y_basis]).T\n",
        "proj = np.matmul(np.matmul(A, np.linalg.inv(np.matmul(A.T, A))), A.T) # 2 x n_hidden\n",
        "plt.figure(figsize=(6, 6))\n",
        "\n",
        "# state_labels = ['Positive examples', 'Negative examples']\n",
        "state_labels = ['State {}'.format(i) for i in range(len(toy_params['sentiments']))]\n",
        "state_colors = ['r', 'y', 'g', 'b', 'm']\n",
        "for i in range(len(toy_params['sentiments'])):\n",
        "  x_vals = np.dot(np.matmul(np.vstack(states[i]), proj), x_basis)\n",
        "  y_vals = np.dot(np.matmul(np.vstack(states[i]), proj), y_basis)\n",
        "  plt.plot(x_vals, y_vals, state_colors[i]+'o', alpha=0.01, label=state_labels[i])\n",
        "\n",
        "ro_colors = ['r', 'y', 'g', 'b', 'm']\n",
        "for i in range(len(readout)):\n",
        "  ro_proj = np.matmul(proj, readout[i])\n",
        "  plt.plot([0, np.dot(x_basis, ro_proj)], [0, np.dot(y_basis, ro_proj)], ro_colors[i], linewidth = 3)\n",
        "\n",
        "plt.xlabel('RO vec space1')\n",
        "plt.ylabel('RO vec space2')\n",
        "\n",
        "plt.xlim(-7, 7)\n",
        "plt.ylim(-7, 7)"
      ],
      "execution_count": null,
      "outputs": []
    },
    {
      "cell_type": "code",
      "metadata": {
        "id": "I8KFfEVLGAXP"
      },
      "source": [
        "# Project fixed points onto the readout space\n",
        "ro1 = 0\n",
        "ro2 = 1\n",
        "\n",
        "# Creates basis vectors for the readout space\n",
        "x_basis = readout[ro1] / np.linalg.norm(readout[ro1])\n",
        "y_vec = readout[ro2] - np.dot(x_basis, readout[ro2]) * x_basis\n",
        "y_basis = y_vec / np.linalg.norm(y_vec)\n",
        "print('x', np.linalg.norm(x_basis))\n",
        "print('y', np.linalg.norm(y_basis))\n",
        "print('x.y', np.dot(x_basis, y_basis))\n",
        "\n",
        "A = np.array([x_basis, y_basis]).T\n",
        "proj = np.matmul(np.matmul(A, np.linalg.inv(np.matmul(A.T, A))), A.T) # 2 x n_hidden\n",
        "plt.figure(figsize=(6, 6))\n",
        "\n",
        "# Fixed points\n",
        "x_vals = np.dot(np.matmul(np.vstack(fixed_points), proj), x_basis)\n",
        "y_vals = np.dot(np.matmul(np.vstack(fixed_points), proj), y_basis)\n",
        "plt.scatter(x_vals, y_vals, s=20, c=np.log10(fp_losses))\n",
        "plt.colorbar\n",
        "\n",
        "ro_colors = ['r', 'y', 'g', 'b', 'm']\n",
        "for i in range(len(readout)):\n",
        "  ro_proj = np.matmul(proj, readout[i])\n",
        "  plt.plot([0, np.dot(x_basis, ro_proj)], [0, np.dot(y_basis, ro_proj)], ro_colors[i], linewidth = 3)\n",
        "\n",
        "plt.xlabel('RO vec space1')\n",
        "plt.ylabel('RO vec space2')\n",
        "\n",
        "plt.xlim(-7, 7)\n",
        "plt.ylim(-7, 7)"
      ],
      "execution_count": null,
      "outputs": []
    },
    {
      "cell_type": "markdown",
      "metadata": {
        "id": "NAGnJM6Zm4wv"
      },
      "source": [
        "### FP Manifold Dimension\n"
      ]
    },
    {
      "cell_type": "code",
      "metadata": {
        "id": "GZ3Wt02qm4Lm"
      },
      "source": [
        "unique_tol = 0.025\n",
        "do_print = True\n",
        "fps_reduced, unique_kidxs = keep_unique_fixed_points(fixed_points, unique_tol, do_print)\n",
        "# fps_reduced = fixed_points\n",
        "n_fp = fps_reduced.shape[0]\n",
        "\n",
        "time1 = time.time()\n",
        "distances = pdist(fps_reduced, metric=\"euclidean\") # n_fp * (n_fps-1) / 2\n",
        "dist_sq = squareform(distances) # n_fp x n_fp \n",
        "print('Scipy Eucl Dist Time: {:0.2f} sec.'.format(time.time() - time1))\n",
        "distances.sort()\n",
        "print('Min dist:', distances[0])\n",
        "print('Max dist:', distances[-1])\n",
        "\n",
        "pca_fps = PCA(n_components=rnn_specs['hidden_size'])\n",
        "_ = pca_fps.fit_transform(fps_reduced)\n",
        "explained_var = pca_fps.explained_variance_ratio_\n",
        "print('Top', pc_dims, 'components:', np.sum(explained_var[:pc_dims]), '(', explained_var[:pc_dims],')')\n",
        "print('Participation Ratio:', participation_ratio_vector(pca_fps.explained_variance_))"
      ],
      "execution_count": null,
      "outputs": []
    },
    {
      "cell_type": "code",
      "metadata": {
        "id": "vGGsGsBZBNiu"
      },
      "source": [
        "# k_vals = np.asarray([int(k_val) for k_val in range(50,80)])\n",
        "# m_k_means = []\n",
        "# for k_val in k_vals:\n",
        "#   m_ks = np.zeros((n_fp,))\n",
        "#   for i in range(n_fp):\n",
        "#     m_ks[i] = find_m_k(i, k_val, dist_sq)\n",
        "#   m_k_means.append(np.mean(m_ks))\n",
        "\n",
        "k_val = 200\n",
        "m_k_val = find_m_k(k_val, dist_sq)\n",
        "print('m_k average:', m_k_val)"
      ],
      "execution_count": null,
      "outputs": []
    },
    {
      "cell_type": "code",
      "metadata": {
        "id": "Zdcdvf60Hudv"
      },
      "source": [
        "print('k_avged Estimate:', 1/(np.max(k_vals)-np.min(k_vals)+1)*np.sum(m_k_means))\n",
        "\n",
        "plt.figure()\n",
        "plt.plot(k_vals, m_k_means, 'b')"
      ],
      "execution_count": null,
      "outputs": []
    },
    {
      "cell_type": "code",
      "metadata": {
        "id": "cNwwtzgpzvCC"
      },
      "source": [
        "# r_range = (np.log10(1.1*distances[0]),np.log10(distances[-1])z)\n",
        "r_range = (-1, 0)\n",
        "slope, _, _, _, _ = find_correlation_dimension(r_range, dist_sq, show_plot=True)\n",
        "print('Slope:', slope)"
      ],
      "execution_count": null,
      "outputs": []
    },
    {
      "cell_type": "markdown",
      "metadata": {
        "id": "_uFze3myiaPU"
      },
      "source": [
        "### Training Paths"
      ]
    },
    {
      "cell_type": "markdown",
      "metadata": {
        "id": "S_DKG6FJVmxw"
      },
      "source": [
        "#### Rotation/Reflection"
      ]
    },
    {
      "cell_type": "code",
      "metadata": {
        "id": "X-txwVxalQTd"
      },
      "source": [
        "cell = build_cell(rnn_specs)\n",
        "\n",
        "# Get RNN hidden states in response to a test batch.\n",
        "n_trials = 400\n",
        "\n",
        "syn_data_test = generate_data(n_trials, toy_params, rnn_specs['output_size'])\n",
        "\n",
        "hs = rnn_states(syn_data_test, rnn_params)\n",
        "pts = np.vstack(hs)[::2] # Gets every other state to eliminate states that are too close\n",
        "\n",
        "pca_full = PCA(n_components=rnn_specs['hidden_size']).fit(pts)\n",
        "comp = pca_full.components_ # pc_dims x n_hidden\n",
        "\n",
        "pc_dims = 2\n",
        "\n",
        "syn_data_path = generate_data(1, toy_params, rnn_specs['output_size'])\n",
        "hs_path = rnn_states(syn_data_path, rnn_params)[0]\n",
        "pca_path = np.matmul(hs_path, comp.T) # length x pc_dims\n",
        "\n",
        "print(syn_data_path['inputs'][0][:5])\n",
        "print(tensorToPhrase(syn_data_path['inputs'][0], toy_params['words'])[:5])\n",
        "path_label = np.argmax(syn_data_path['labels'][0, toy_params['phrase_length']-1])\n",
        "\n",
        "# # Finds percent of hidden states magnitude explained in first few PCA dimensions\n",
        "# pca_dims = 3\n",
        "# perc_mag_hs = np.zeros((hs_path.shape[0],))\n",
        "# for i in range(hs_path.shape[0]):\n",
        "#   perc_mag_hs[i] = np.linalg.norm(pca_path[i,:pca_dims])/np.linalg.norm(hs_path[i])\n",
        "\n",
        "# plt.figure(figsize=(6, 6))\n",
        "# plt.plot(perc_mag_hs)\n",
        "\n",
        "rot_label = (path_label + 1) % len(toy_params['sentiments'])\n",
        "print('Path label: {}, Rotating To: {}'.format(path_label, rot_label))\n",
        "\n",
        "angle = np.arccos(np.dot(readout[path_label], readout[rot_label])/(np.linalg.norm(readout[path_label])*np.linalg.norm(readout[rot_label])))\n",
        "rot_matrix = np.identity(hs_path.shape[-1])\n",
        "rot_matrix[0,0] = np.cos(angle)\n",
        "rot_matrix[0,1] = np.sin(angle)\n",
        "rot_matrix[1,0] = -1 * np.sin(angle)\n",
        "rot_matrix[1,1] = np.cos(angle)\n",
        "rot_pca_path = np.matmul(pca_path, rot_matrix.T)\n",
        "\n",
        "comp_inv = np.linalg.inv(comp)\n",
        "rot_path = np.matmul(rot_pca_path, comp_inv.T)"
      ],
      "execution_count": null,
      "outputs": []
    },
    {
      "cell_type": "code",
      "metadata": {
        "id": "cFNdKz5x261M"
      },
      "source": [
        "def pathToPhrase(path_of_hs):\n",
        "  hs_path_winit = np.concatenate((h0[np.newaxis, :], path_of_hs), axis=0)\n",
        "  words = []\n",
        "\n",
        "  for time_idx in range(path_of_hs.shape[0]):\n",
        "    path_diff = hs_path_winit[time_idx+1] - hs_path_winit[time_idx]\n",
        "    n_words = len(toy_params['words'])\n",
        "    word_defs = np.zeros((n_words, hs_path_winit.shape[-1]))\n",
        "    word_diffs = np.zeros((n_words,))\n",
        "    input_jac = cell.inp_jac(rnn_params, jnp.zeros(rnn_specs['input_size']), hs_path_winit[time_idx])\n",
        "    \n",
        "    for i in range(n_words): # Iterates over all words\n",
        "      word_tensor = wordToTensor(toy_params['words'][i], toy_params['words'])\n",
        "      word_defs[i] = np.matmul(input_jac, word_tensor[0])\n",
        "      word_diffs[i] = np.linalg.norm(word_defs[i] - path_diff)\n",
        "    words.append(toy_params['words'][np.argmin(word_diffs)])\n",
        "\n",
        "  return words\n",
        "\n",
        "rot_phrase_words = pathToPhrase(rot_path)\n",
        "\n",
        "print(tensorToPhrase(syn_data_path['inputs'][0], toy_params['words'])[:20])\n",
        "print(rot_phrase_words[:20])"
      ],
      "execution_count": null,
      "outputs": []
    },
    {
      "cell_type": "code",
      "metadata": {
        "id": "a60e2w_Micgp"
      },
      "source": [
        "# Here, we visualize the hidden states of the RNN, projected into a\n",
        "# low-dimensional 2D state space.\n",
        "\n",
        "plt.figure(figsize=(6, 6))\n",
        "\n",
        "pc1 = 0\n",
        "pc2 = 1\n",
        "\n",
        "# state_labels = ['Positive examples', 'Negative examples']\n",
        "state_labels = ['State {}'.format(i) for i in range(len(toy_params['sentiments']))]\n",
        "state_colors = ['r', 'orange', 'y', 'g', 'b', 'm']\n",
        "for i in range(len(toy_params['sentiments'])):\n",
        "  pca_states = pca_full.transform(np.vstack(states[i])).T\n",
        "  plt.plot(pca_states[pc1], pca_states[pc2], c = state_colors[i], marker='o', alpha=0.01, label=state_labels[i])\n",
        "\n",
        "plt.plot(pca_path[:,pc1], pca_path[:,pc2], c='k', marker='.')\n",
        "plt.plot(rot_pca_path[:,pc1], rot_pca_path[:,pc2], c='b', marker='.')\n",
        "\n",
        "# Plots readout direction\n",
        "for i in range(len(readout)):\n",
        "  ro_dir = np.matmul(comp, readout[i])\n",
        "  x_ro = [0, ro_dir[pc1]]\n",
        "  y_ro = [0, ro_dir[pc2]]\n",
        "  plt.plot(x_ro, y_ro, state_colors[i], linewidth = 3)\n",
        "\n",
        "pca_h0 = pca.transform(np.atleast_2d(h0)).T\n",
        "plt.plot(pca_h0[pc1], pca_h0[pc2], 'ks', label='Initial state')\n",
        "\n",
        "plt.xlabel('PC'+str(pc1+1))\n",
        "plt.ylabel('PC'+str(pc2+1))\n",
        "# plt.xlim(-5, 5)\n",
        "# plt.ylim(-5, 5)\n",
        "\n",
        "plt.legend()"
      ],
      "execution_count": null,
      "outputs": []
    },
    {
      "cell_type": "markdown",
      "metadata": {
        "id": "WXDp7-PlVrir"
      },
      "source": [
        "#### Network Flow"
      ]
    },
    {
      "cell_type": "code",
      "metadata": {
        "id": "vihSwMeQVt7N"
      },
      "source": [
        "# Shows flow of network at various locations in hidden-state space\n",
        "pc_dims = 5\n",
        "\n",
        "flow_points_raw = fixed_points\n",
        "# flow_points_raw = pts\n",
        "word = 'kinda3'\n",
        "if word == None:\n",
        "  word_tensor = jnp.zeros(rnn_specs['input_size'])\n",
        "else:\n",
        "  word_tensor = wordToTensor(word, toy_params['words'])[0]\n",
        "\n",
        "# word_tensor = np.asarray([wordToTensor('not', toy_params['words'])[0], wordToTensor('very0', toy_params['words'])[0]])\n",
        "\n",
        "# Filters out non-unique points\n",
        "unique_tol = 0.25\n",
        "do_print = True\n",
        "points_unique, unique_kidxs = keep_unique_fixed_points(flow_points_raw, unique_tol, do_print)\n",
        "steps = 1\n",
        "\n",
        "points_reduced = points_unique #[::18]\n",
        "points_final_pca = np.zeros((len(points_reduced), pc_dims))\n",
        "# print(points_reduced.shape)\n",
        "points_init_pca = pca.transform(np.vstack(points_reduced))\n",
        "for pt_idx in range(len(points_reduced)):\n",
        "  # print(points_reduced[pt_idx].shape)\n",
        "  # points_init_pca[pt_idx] = np.matmul(comp, points_reduced[pt_idx])\n",
        "  ref_point = points_reduced[pt_idx]\n",
        "  for step in range(steps):\n",
        "    def_state = cell.apply(rnn_params, word_tensor, ref_point)\n",
        "    ref_point = def_state\n",
        "  points_final_pca[pt_idx] = pca.transform(np.atleast_2d(def_state))[0]\n",
        "  # points_final_pca[pt_idx] = np.matmul(comp, def_state)\n",
        "\n",
        "print(points_init_pca.shape)\n",
        "print(points_final_pca.shape)"
      ],
      "execution_count": null,
      "outputs": []
    },
    {
      "cell_type": "code",
      "metadata": {
        "id": "eAzBZiTWNAvp"
      },
      "source": [
        "plt.figure(figsize=(8, 6))\n",
        "\n",
        "pc1 = 0\n",
        "pc2 = 1\n",
        "\n",
        "pca_fps = pca.transform(np.vstack(fixed_points)).T\n",
        "plt.scatter(pca_fps[pc1], pca_fps[pc2], s=20, c=np.log10(fp_losses))\n",
        "plt.grid()\n",
        "\n",
        "plt.colorbar()\n",
        "\n",
        "plt.quiver(points_init_pca[:,pc1], points_init_pca[:,pc2], points_final_pca[:,pc1]-points_init_pca[:,pc1], \n",
        "           points_final_pca[:,pc2]-points_init_pca[:,pc2], scale=1, units='xy')\n",
        "\n",
        "# pca_h0 = pca.transform(np.atleast_2d(h0)).T\n",
        "# plt.plot(pca_h0[pc1], pca_h0[pc2], 'ks', label='Initial state')\n",
        "\n",
        "plt.xlabel('PC'+str(pc1+1))\n",
        "plt.ylabel('PC'+str(pc2+1))"
      ],
      "execution_count": null,
      "outputs": []
    },
    {
      "cell_type": "code",
      "metadata": {
        "id": "IHsh2q76hz88"
      },
      "source": [
        "pc1 = 0\n",
        "pc2 = 1\n",
        "\n",
        "deflection_mags = np.zeros((points_init_pca.shape[0]))\n",
        "counter = 0\n",
        "for fp_init, fp_final, idx in zip(points_init_pca, points_final_pca, range(points_init_pca.shape[0])):\n",
        "  deflection = np.asarray([fp_final[pc1] - fp_init[pc1], fp_final[pc2] - fp_init[pc2]])\n",
        "  deflection_mags[idx] = np.linalg.norm(deflection)\n",
        "\n",
        "print(np.max(deflection_mags))\n",
        "print(np.min(deflection_mags))\n",
        "deflection_mags.sort()\n",
        "\n",
        "plt.plot(deflection_mags)"
      ],
      "execution_count": null,
      "outputs": []
    },
    {
      "cell_type": "code",
      "metadata": {
        "id": "eAACbRZ-ii-l"
      },
      "source": [
        "print(np.max(deflection_mags))\n",
        "print(np.min(deflection_mags))"
      ],
      "execution_count": null,
      "outputs": []
    },
    {
      "cell_type": "markdown",
      "metadata": {
        "id": "aSlkJhbZkbKG"
      },
      "source": [
        "# Training Analysis"
      ]
    },
    {
      "cell_type": "code",
      "metadata": {
        "id": "jamSqvsTyOAJ"
      },
      "source": [
        "def pca_analysis(opt_state, toy_params, rnn_specs):\n",
        "  cell = build_cell(rnn_specs)\n",
        "\n",
        "  n_trials = 1000 # Number of phrases to gather hidden states from\n",
        "  rnn_params, readout_params = get_params(opt_state)\n",
        "\n",
        "  syn_data_test = generate_data(n_trials, toy_params, rnn_specs['output_size'])\n",
        "\n",
        "  hs = rnn_states(syn_data_test, rnn_params)\n",
        "  pts = np.vstack(hs)[::2] # Gets every other state to eliminate states that are too close\n",
        "\n",
        "  if rnn_specs['ro_bias']:\n",
        "    wO, bO = readout_params\n",
        "  else:\n",
        "    wO = readout_params\n",
        "  readout_vecs = wO.T\n",
        "\n",
        "  # Finds percentage of variance explained by top pc_dims of PCA\n",
        "  pca_full = PCA(n_components=rnn_specs['hidden_size'])\n",
        "  _ = pca_full.fit_transform(pts)\n",
        "  explained_var = pca_full.explained_variance_ratio_\n",
        "\n",
        "  return explained_var, readout_vecs"
      ],
      "execution_count": null,
      "outputs": []
    },
    {
      "cell_type": "code",
      "metadata": {
        "id": "oFF4a2dFyApy"
      },
      "source": [
        "seed = 342343\n",
        "print(\"Seed: %d\" % seed)\n",
        "prng_key = jax.random.PRNGKey(seed) # create a random key for jax for use on device.\n",
        "\n",
        "########## Toy data parameters ##########\n",
        "toy_params = {\n",
        "  'phrase_length': 50,\n",
        "  'loss_type': 'XE',\n",
        "  'context_words' : True,\n",
        "  'variable_length': False, # Takes max phrase length as phrase length\n",
        "  'min_phrase_len': 10,\n",
        "  'unordered_class': True, # Use an unordered class set\n",
        "  'n_unordered': 3,\n",
        "}\n",
        "\n",
        "# toy_params['words'] = ['the', 'kinda1100', 'kinda0011', 'kinda1010', 'kinda0101']\n",
        "toy_params['words'] = generateWordBank(toy_params)\n",
        "# toy_params['sentiments'] = ['One', 'Two', 'Three', 'Four', 'Five']\n",
        "# toy_params['words'].append('kinda01')\n",
        "# toy_params['words'].append('kinda01')\n",
        "# toy_params['words'].remove('kinda0')\n",
        "# toy_params['words'].remove('kinda1')\n",
        "# toy_params['words'].remove('very0')\n",
        "# toy_params['words'].remove('very1')\n",
        "# toy_params['words'].remove('very2')\n",
        "# toy_params['words'].remove('very3')\n",
        "# toy_params['words'].remove('very4')\n",
        "# toy_params['words'].append('bad0')\n",
        "# toy_params['words'].append('bad1')\n",
        "# toy_params['sentiments'] = ['Red', 'Green', 'Blue']\n",
        "# toy_params['sentiments'] = ['Bad', 'Neutral', 'Good']\n",
        "if toy_params['unordered_class']:\n",
        "  toy_params['sentiments'] = ['sent'+str(i) for i in range(toy_params['n_unordered'])]\n",
        "\n",
        "########## RNN hyperparameters ##########\n",
        "rnn_specs = {\n",
        "  'cell_type': 'LSTM',                               # Supports 'GRU' or 'LSTM'\n",
        "  'input_size': len(toy_params['words']),           # Number of inputs to the RNN\n",
        "  'hidden_size': 128,                               # Number of units in the RNN\n",
        "  'output_size': len(toy_params['sentiments']),     # Number of outputs in the RNN\n",
        "  'ro_bias': False,                                 # Include a bias with the readout\n",
        "  'ro_simplex_init': False,\n",
        "}\n",
        "\n",
        "########## Train hyperparameters ##########\n",
        "\n",
        "train_params = {\n",
        "  'max_grad_norm': 10.0,      # max gradient norm before clipping, clip to this value.\n",
        "  'l2reg': 2e-5,           # amount of L2 regularization on the weights\n",
        "\n",
        "  'init_lr': 0.1,                     # initial learning rate\n",
        "  'decay_factor': 0.9997,             # decay the learning rate this much\n",
        "  'adam_b1': 0.9,                     # Adam parameters (b1=0.9, b2=0.99, eps=1e-8 are defaults)\n",
        "  'adam_b2': 0.99,\n",
        "  'adam_eps': 1e-1,\n",
        "\n",
        "  'batch_size': 128,                     # How many examples in each batch\n",
        "  'num_batchs': 100,                    # Total number of batches to train on.\n",
        "  'print_every': 100,                     # Print training informatino every so often\n",
        "\n",
        "  'n_datasets': 1,                           # Number of new train sets to generate total (this is slow)\n",
        "  'epochs': 1,                               # How many times to go through each train set completely\n",
        "  'test_set_size': 200,\n",
        "\n",
        "  'decay_fun': optimizers.exponential_decay(init_lr, decay_steps=1, decay_rate=decay_factor),\n",
        "}\n",
        "\n",
        "train_params['train_set_size'] = train_params['batch_size'] * train_params['num_batchs'] # Number of examples in train set"
      ],
      "execution_count": null,
      "outputs": []
    },
    {
      "cell_type": "code",
      "metadata": {
        "id": "LUBt8jedkcbs"
      },
      "source": [
        "num_checkpoints = 100\n",
        "\n",
        "########## Run ##########\n",
        "\n",
        "print('Total words:', len(toy_params['words']), 'Words:', toy_params['words'])\n",
        "print('Total sentiments:', len(toy_params['sentiments']), 'Sentiments:', toy_params['sentiments'])\n",
        "\n",
        "new_network = True\n",
        "load_network = False\n",
        "save_data = False\n",
        "\n",
        "path = '/content/drive/My Drive/ml_research/fixedpoints_nlp/gru_2x2class_xe_noRO.pickle'\n",
        "save_data = override_data(path, save_data)\n",
        "\n",
        "if new_network:\n",
        "  # Initialize the optimizer.  Please see jax/experimental/optimizers.py\n",
        "  init_fun, apply_fun, mask_fun, loss_fun, accuracy_fun = build_rnn(rnn_specs)\n",
        "  input_shape = (train_params['batch_size'], toy_params['phrase_length'], len(toy_params['words']))\n",
        "  output_shape, initial_params = init_fun(prng_key, input_shape)\n",
        "\n",
        "  opt = optimizers.adam(train_params['decay_fun'], train_params['adam_b1'], train_params['adam_b2'], train_params['adam_eps'])\n",
        "  opt_state, step_fun = build_optimizer_step(opt, initial_params, loss_fun, gradient_clip=train_params['max_grad_norm'])\n",
        "  \n",
        "  init_opt, update_opt, get_params = opt\n",
        "\n",
        "  train_params['train_losses'] = []\n",
        "  train_params['global_step'] = 0\n",
        "  train_params['total_steps'] = 0\n",
        "\n",
        "elif load_network:\n",
        " \n",
        "  initial_params = params_loaded_jax\n",
        "  output_shape = (train_params['batch_size'], toy_params['phrase_length'], len(toy_params['sentiments']))\n",
        "\n",
        "  opt = optimizers.adam(train_params['decay_fun'], train_params['adam_b1'], train_params['adam_b2'], train_params['adam_eps'])\n",
        "  opt_state, step_fun = build_optimizer_step(opt, initial_params, loss_fun, gradient_clip=train_params['max_grad_norm'])\n",
        "\n",
        "  init_opt, update_opt, get_params = opt\n",
        "\n",
        "  train_params['train_losses'] = train_params['train_losses'] if 'train_losses' in train_params else []\n",
        "  train_params['global_step'] = train_params['total_steps']\n",
        "\n",
        "explained_var = np.zeros((num_checkpoints, rnn_specs['hidden_size']))\n",
        "if rnn_specs['cell_type'] == 'Vanilla' or rnn_specs['cell_type'] == 'GRU' or rnn_specs['cell_type'] == 'UGRNN' :\n",
        "  readout_cps = np.zeros((num_checkpoints, rnn_specs['output_size'], rnn_specs['hidden_size']))\n",
        "elif rnn_specs['cell_type'] == 'LSTM':\n",
        "  readout_cps = np.zeros((num_checkpoints, rnn_specs['output_size'], 2*rnn_specs['hidden_size']))\n",
        "checkpoint_batches = np.zeros((num_checkpoints,))\n",
        "\n",
        "for cp in range(num_checkpoints):\n",
        "  # Calculates before train, so checkpoint 0 is initial data\n",
        "  explained_var[cp], readout_cps[cp] = pca_analysis(opt_state, toy_params, rnn_specs)\n",
        "  checkpoint_batches[cp] = train_params['global_step']\n",
        "\n",
        "  # Generate synthetic data and run training on said data\n",
        "  opt_state, train_params = train_on_synthetic_data(opt_state, train_params, toy_params, rnn_specs)"
      ],
      "execution_count": null,
      "outputs": []
    },
    {
      "cell_type": "code",
      "metadata": {
        "id": "pHoTyz9T2SyQ"
      },
      "source": [
        "pc_dims = 5\n",
        "total_exvar = np.zeros((num_checkpoints, rnn_specs['hidden_size']-1))\n",
        "ro_angles = np.zeros((num_checkpoints, rnn_specs['output_size']))\n",
        "ro_rel_angles = np.zeros((num_checkpoints, rnn_specs['output_size']))\n",
        "final_ro = readout_cps[num_checkpoints-1] # n_readouts x n_hidden\n",
        "\n",
        "for cp in range(num_checkpoints):\n",
        "  # print('Top', pc_dims, 'components:', np.sum(explained_var[cp][:pc_dims]), '(', explained_var[cp][:pc_dims],')')\n",
        "  for i in range(rnn_specs['hidden_size']-1):\n",
        "    total_exvar[cp][i] = np.sum(explained_var[cp][:i+1])\n",
        "  for ro in range(rnn_specs['output_size']):\n",
        "    dot_val = np.dot(readout_cps[cp][ro], final_ro[ro])/(np.linalg.norm(readout_cps[cp][ro])*np.linalg.norm(final_ro[ro]))\n",
        "    ro_angles[cp][ro] = 180/np.pi * np.arccos(dot_val)\n",
        "  for ro in range(rnn_specs['output_size']):\n",
        "    ro2 = (ro+1) % rnn_specs['output_size']\n",
        "    dot_val = np.dot(readout_cps[cp][ro],readout_cps[cp][ro2])/(np.linalg.norm(readout_cps[cp][ro])*np.linalg.norm(readout_cps[cp][ro2]))\n",
        "    ro_rel_angles[cp][ro] = 180/np.pi * np.arccos(dot_val)\n",
        "  \n",
        "plt.figure(figsize=(12,12))\n",
        "# ax1 = plt.subplot('131')\n",
        "# ax1.plot(total_exvar[0][:20], 'k-', marker='.', label='Initial State')\n",
        "# ax1.plot(total_exvar[num_checkpoints-1][:20], 'b-', marker='.', label='Final State')\n",
        "# ax1.set_xlabel('PC Dimension')\n",
        "# ax1.set_ylabel('% of variance explained')\n",
        "# ax1.axhline(1.0, c='k', linestyle='--')\n",
        "# ax1.legend()\n",
        "\n",
        "ax1 = plt.subplot('311')\n",
        "train_losses = train_params['train_losses']\n",
        "n_avg = 100\n",
        "avg_loss = [1/n_avg * np.sum(train_losses[i*n_avg:(i+1)*n_avg]) for i in range(int(len(train_losses)/n_avg))]\n",
        "ax1.semilogy(np.linspace(1,len(train_losses),len(train_losses)), train_losses, label='Loss')\n",
        "ax1.semilogy(np.linspace(1,len(train_losses),int(len(train_losses)/n_avg)), avg_loss,'r', label='Averaged Loss')\n",
        "ax1.set_xlabel('Step')\n",
        "ax1.set_ylabel('Train Loss')\n",
        "ax1.legend()\n",
        "\n",
        "ax2 = plt.subplot('312')\n",
        "n_pc_dims = 6\n",
        "plot_colors = ['r', 'orange', 'y', 'g', 'b', 'm']\n",
        "for i in range(n_pc_dims):\n",
        "  ax2.plot(checkpoint_batches, total_exvar[:, i], c = plot_colors[i], marker='.', label='PC1 to PC{}'.format(i+1))\n",
        "ax2.set_xlabel('Step')\n",
        "ax2.set_ylabel('% of variance explained')\n",
        "ax2.axhline(1.0, c='k', linestyle='--')\n",
        "ax2.legend()\n",
        "\n",
        "ax3 = plt.subplot('313')\n",
        "for i in range(rnn_specs['output_size']):\n",
        "  ax3.plot(checkpoint_batches, ro_angles[:, i], c=plot_colors[i], marker='.', label='ro{}[step] & ro{}[final]'.format(i,i))\n",
        "for i in range(rnn_specs['output_size']):\n",
        "  ax3.plot(checkpoint_batches, ro_rel_angles[:, i], c=plot_colors[i], marker='.', linestyle='dotted',\n",
        "           label='ro{}[step] & ro{}[step]'.format(i,(i+1) % rnn_specs['output_size']))\n",
        "\n",
        "ax3.set_xlabel('Step')\n",
        "ax3.set_ylabel('Angle Between Vectors (Degrees)')\n",
        "ax3.axhline(0.0, c='k', linestyle='--')\n",
        "ax3.axhline(180/np.pi * np.arccos(-1/(rnn_specs['output_size']-1)), c='k', linestyle='--')\n",
        "ax3.legend()"
      ],
      "execution_count": null,
      "outputs": []
    },
    {
      "cell_type": "markdown",
      "metadata": {
        "id": "dobYUX4-XW36"
      },
      "source": [
        "### Set Readouts Tests"
      ]
    },
    {
      "cell_type": "code",
      "metadata": {
        "id": "LXN7RFcaXZX4"
      },
      "source": [
        "def simplex_readouts(rand_seed, dimensions):\n",
        "  \"\"\" Returns readouts which are the vertices of an n-simplex\"\"\"\n",
        "  print('Initializing readouts as simplex dimensions.')\n",
        "  if len(dimensions) > 2:\n",
        "    raise NotImplementedError('Only current takes two dimensions, input and output')\n",
        "  n_readouts = dimensions[1]\n",
        "  hidden_dim = dimensions[0]\n",
        "  center = np.zeros((hidden_dim,))\n",
        "  for i in range(n_readouts):\n",
        "    center[i] = 1/n_readouts\n",
        "  readouts = np.zeros((hidden_dim, n_readouts))\n",
        "  for i in range(n_readouts):\n",
        "    readouts[i][i] = 1\n",
        "    readouts[:,i] = center - readouts[:,i]\n",
        "\n",
        "  return readouts\n",
        "\n",
        "readouts = simplex_readouts(5, (128, 3)).T\n",
        "print(readouts.shape)\n",
        "print(readouts[0][:5])\n",
        "print(readouts[1][:5])\n",
        "print(readouts[2][:5])\n",
        "180/np.pi*np.arccos(np.dot(readouts[0], readouts[1])/(np.linalg.norm(readouts[0]) * np.linalg.norm(readouts[1])))"
      ],
      "execution_count": null,
      "outputs": []
    },
    {
      "cell_type": "markdown",
      "metadata": {
        "id": "roL41vsbryMJ"
      },
      "source": [
        "# Dimensions vs Number of Classes Tests"
      ]
    },
    {
      "cell_type": "code",
      "metadata": {
        "id": "LIjaqpN_rzDU"
      },
      "source": [
        "n_trials = 5000\n",
        "class_size = [2, 3, 4, 5, 6, 7]\n",
        "states = 'Fixed' # Supports 'Hidden' and 'Fixed'\n",
        "\n",
        "unique_tol = 0.025\n",
        "do_print = True\n",
        "\n",
        "prs = np.zeros((len(class_size),))\n",
        "local_prs = np.zeros((len(class_size),))\n",
        "ve_threshold_var = np.zeros((len(class_size),))\n",
        "ve_threshold_90 = np.zeros((len(class_size),))\n",
        "ve_threshold_95 = np.zeros((len(class_size),))\n",
        "\n",
        "k_vals = [10, 25, 50, 100]\n",
        "m_k_vals = np.zeros((len(class_size), len(k_vals)))\n",
        "r_range = (0.0, 1.0)\n",
        "corr_dim_vals = np.zeros((len(class_size),))\n",
        "ro_theory = np.zeros((len(class_size),))\n",
        "ro_angles = []\n",
        "ro_plane_perc = np.zeros((len(class_size),))\n",
        "\n",
        "for class_idx, class_num in zip(range(len(class_size)), class_size):\n",
        "\n",
        "  # Loads network\n",
        "  path = '/content/drive/My Drive/ml_research/fixedpoints_nlp/data/gru_{}class_uniformscore_noRO_l2is1e-2.pickle'.format(class_num)\n",
        "  # path = '/content/drive/My Drive/ml_research/fixedpoints_nlp/data/gru_{}classrgb_minimal_noRO_l2is2e-4.pickle'.format(class_num)\n",
        "  # path = '/content/drive/My Drive/ml_research/fixedpoints_nlp/data/gru_{}classrgb_uniformscore_noRO_l2is5e-4.pickle'.format(class_num)\n",
        "\n",
        "  # Loads network\n",
        "  with open(path, 'rb') as load_file:\n",
        "    params_loaded = pickle.load(load_file)\n",
        "    toy_params = pickle.load(load_file)\n",
        "    rnn_specs = pickle.load(load_file)\n",
        "    train_params = pickle.load(load_file)\n",
        "\n",
        "  rnn_params, readout_params = params_loaded\n",
        "  train_params, toy_params, rnn_specs = default_params(train_params, toy_params, rnn_specs)\n",
        "\n",
        "  \n",
        "  # Get RNN hidden states in response to a test batch.\n",
        "  cell = build_cell(rnn_specs)\n",
        "  syn_data_test = generate_data(n_trials, toy_params, rnn_specs['output_size'])\n",
        "  hs = rnn_states(syn_data_test, rnn_params)\n",
        "  pts = np.vstack(hs)[::2] # Gets every other state to eliminate states that are too close\n",
        "\n",
        "  if states == 'Hidden':\n",
        "    pts_reduced, unique_kidxs = keep_unique_fixed_points(pts, unique_tol, do_print)\n",
        "  elif states == 'Fixed':\n",
        "    # Average distance traveled\n",
        "    avg_step_sizes = np.zeros((len(hs),))\n",
        "    h0 = cell.get_initial_state(rnn_params)\n",
        "    for hs_idx in range(len(hs)):\n",
        "      hs_h0 = np.concatenate([hs[hs_idx], h0], axis=0)\n",
        "      total_dist = 0\n",
        "      for time_idx in range(hs_h0.shape[0] - 1):\n",
        "        total_dist += np.sqrt(np.sum((hs_h0[time_idx+1] - hs_h0[time_idx])**2))\n",
        "      avg_step_sizes[hs_idx] = total_dist/hs[hs_idx].shape[0]\n",
        "\n",
        "    print('Mean distance:', np.mean(avg_step_sizes))\n",
        "\n",
        "    xstar = jnp.zeros((pts.shape[0], rnn_specs['input_size']))\n",
        "    fp_loss_fun = renn.build_fixed_point_loss(cell, rnn_params)\n",
        "    fixed_points, loss_hist, fp_losses = renn.find_fixed_points(fp_loss_fun, pts, xstar, optimizers.adam(0.01), \n",
        "                                                                tolerance=.05 * 1/2*(np.mean(avg_step_sizes))**2, steps=range(10000))\n",
        "    pts_reduced, unique_kidxs = keep_unique_fixed_points(fixed_points, unique_tol, do_print)\n",
        "\n",
        "  # PCA measures\n",
        "  pca_full = PCA(n_components=rnn_specs['hidden_size'])\n",
        "  _ = pca_full.fit_transform(pts_reduced)\n",
        "  prs[class_idx] = participation_ratio_vector(pca_full.explained_variance_)\n",
        "  explained_var = pca_full.explained_variance_ratio_\n",
        "  num_fp_dims = 1\n",
        "  while np.sum(explained_var[:num_fp_dims]) < class_num/(class_num+1):\n",
        "    num_fp_dims += 1\n",
        "  ve_threshold_var[class_idx] = num_fp_dims\n",
        "  num_fp_dims = 1\n",
        "  while np.sum(explained_var[:num_fp_dims]) < 0.9:\n",
        "    num_fp_dims += 1\n",
        "  ve_threshold_90[class_idx] = num_fp_dims\n",
        "  num_fp_dims = 1\n",
        "  while np.sum(explained_var[:num_fp_dims]) < 0.95:\n",
        "    num_fp_dims += 1\n",
        "  ve_threshold_95[class_idx] = num_fp_dims\n",
        "\n",
        "  # NN based measures\n",
        "  distances = pdist(pts_reduced, metric=\"euclidean\") # n_fp * (n_fps-1) / 2\n",
        "  dist_sq = squareform(distances) # n_fp x n_fp \n",
        "  distances.sort()\n",
        "\n",
        "  for k_val_idx in range(len(k_vals)):\n",
        "    m_k_vals[class_idx, k_val_idx] = find_m_k(k_vals[k_val_idx], dist_sq)\n",
        "\n",
        "  # r_range = (np.log10(1.1*np.min(distances)), np.log10(0.9*np.max(distances))\n",
        "  r_range = (np.log10(np.percentile(distances, 2.5)), np.log10(np.percentile(distances, 97.5)))\n",
        "  slope, _, _, _, _ = find_correlation_dimension(r_range, dist_sq, show_plot=False)\n",
        "  corr_dim_vals[class_idx] = slope\n",
        "\n",
        "  local_prs[class_idx] = local_pca_analysis(pts_reduced, dist_sq, n_pts=20, k=50*class_num)\n",
        "\n",
        "  # Readout tests\n",
        "  readout = readout_params.T\n",
        "\n",
        "  ro_theory[class_idx] = 180/np.pi * np.arccos(-1/(class_num-1))\n",
        "\n",
        "  angle_vals = []\n",
        "  for i in range(len(readout)):\n",
        "    for j in range(i):\n",
        "      angle_vals.append(180/np.pi * np.arccos(np.dot(readout[i], readout[j])/\n",
        "                                              (np.linalg.norm(readout[i])*np.linalg.norm(readout[j]))))\n",
        "  ro_angles.append(angle_vals)\n",
        "  \n",
        "  subspspace_perc_vals = []\n",
        "  for i in range(len(readout)):\n",
        "    A = []\n",
        "    for j in range(len(readout)):\n",
        "      if i != j:\n",
        "        A.append(readout[j])\n",
        "    subspspace_perc_vals.append(subspace_perc(np.asarray(A).T, readout[i]))  \n",
        "  ro_plane_perc[class_idx] = np.mean(subspspace_perc_vals)"
      ],
      "execution_count": null,
      "outputs": []
    },
    {
      "cell_type": "code",
      "metadata": {
        "id": "o_v58SGct1RQ"
      },
      "source": [
        "plt.figure(figsize=(12, 12))\n",
        "plt.plot(class_size, prs, label='Global PR')\n",
        "plt.plot(class_size, local_prs, label='Local PR')\n",
        "plt.plot(class_size, ve_threshold_var, label='n/(n+1)% Var Explained', marker='.')\n",
        "plt.plot(class_size, ve_threshold_90, label='90% Var Explained')\n",
        "plt.plot(class_size, ve_threshold_95, label='95% Var Explained')\n",
        "for k_val_idx in range(len(k_vals)):\n",
        "  plt.plot(class_size, m_k_vals[:,k_val_idx], label='m_k for k='+str(k_vals[k_val_idx]))\n",
        "plt.plot(class_size, corr_dim_vals, label='Correlation Dimension')\n",
        "plt.plot(class_size, [class_val-1 for class_val in class_size], c='k', linestyle='dashed', label='(n-1)-Simplex Dimension')\n",
        "if states == 'Hidden': \n",
        "  plt.title('Hidden State Dimensionality')\n",
        "else:\n",
        "  plt.title('Fixed Point Dimensionality')\n",
        "plt.xlabel('n (# of Classes)')\n",
        "plt.ylabel('Dimensionality Measure')\n",
        "plt.legend()"
      ],
      "execution_count": null,
      "outputs": []
    },
    {
      "cell_type": "code",
      "metadata": {
        "id": "RAxbhOzB29bn"
      },
      "source": [
        "mean_angle = np.zeros((len(class_size),))\n",
        "min_angle = np.zeros((len(class_size),))\n",
        "max_angle = np.zeros((len(class_size),))\n",
        "for class_idx in range(len(class_size)):\n",
        "  mean_angle[class_idx] = np.mean(ro_angles[class_idx])\n",
        "  min_angle[class_idx] = np.min(ro_angles[class_idx])\n",
        "  max_angle[class_idx] = np.max(ro_angles[class_idx])\n",
        "\n",
        "plt.figure(figsize=(6, 6))\n",
        "plt.plot(class_size, mean_angle, c='r', label='Mean Angle')\n",
        "plt.fill_between(class_size, min_angle, max_angle, color='r', alpha=0.1, label='Angle Range')\n",
        "plt.plot(class_size, ro_theory, c='k', linestyle='dashed', label='Theoretical Angle')\n",
        "plt.title('Readout Analysis')\n",
        "plt.xlabel('n (# of Classes)')\n",
        "plt.ylabel('Readout Angle')\n",
        "plt.legend()"
      ],
      "execution_count": null,
      "outputs": []
    },
    {
      "cell_type": "markdown",
      "metadata": {
        "id": "tHnzhu03KxRA"
      },
      "source": [
        "# LSA Check"
      ]
    },
    {
      "cell_type": "code",
      "metadata": {
        "id": "gbQlbroEK6IR",
        "colab": {
          "base_uri": "https://localhost:8080/",
          "height": 481
        },
        "outputId": "a51b917a-b02a-4342-8383-34be81010c40"
      },
      "source": [
        "toy_params = {\n",
        "  'phrase_length': 50,\n",
        "  'loss_type': 'XE',\n",
        "  'context_words' : False,\n",
        "  'unordered_class': True, # Use an unordered class set\n",
        "  'n_unordered': 3,\n",
        "  # 'words': ['kinda0', 'kinda1', 'kinda2', 'the'],\n",
        "  'uniform_score': True, # Uniform distribution over scores\n",
        "  # 'filter': 24.0\n",
        "}\n",
        "\n",
        "toy_params['words'] = generateWordBank(toy_params)\n",
        "# toy_params['sentiments'] = ['One', 'Two', 'Three', 'Four', 'Five']\n",
        "# toy_params['sentiments'] = ['Bad', 'Neutral', 'Good']\n",
        "if toy_params['unordered_class']:\n",
        "  toy_params['sentiments'] = ['sent'+str(i) for i in range(toy_params['n_unordered'])]\n",
        "toy_params['base_word_vals'] = syn.baseWordValues(toy_params)\n",
        "\n",
        "train_params = {'train_set_size': 1280}\n",
        "\n",
        "train_params, toy_params, _ = syn_train.default_params(train_params, toy_params, {})\n",
        "\n",
        "syn_data = syn.generate_data(train_params['train_set_size'], toy_params, len(toy_params['sentiments']), jnp_arrays=False)\n",
        "\n",
        "state_sums = np.zeros((len(toy_params['sentiments']), len(toy_params['words'])))\n",
        "n_states = np.zeros((len(toy_params['sentiments'])))\n",
        "states = []\n",
        "\n",
        "for sent, sent_idx in zip(toy_params['sentiments'], range(len(toy_params['sentiments']))):\n",
        "  states.append([np.sum(input, axis=0) for input, lbl in zip(syn_data['inputs'], syn_data['labels']) if np.argmax(lbl[toy_params['phrase_length']-1]) == sent_idx])\n",
        "  state_sums[sent_idx] = np.sum(states[sent_idx], axis=0)\n",
        "  n_states[sent_idx] = len(states[sent_idx])\n",
        "# subtracts mean across all states\n",
        "mean_state = np.sum(state_sums, axis=0) / (train_params['train_set_size']*toy_params['phrase_length'])\n",
        "\n",
        "state_sums_norm = np.zeros((len(toy_params['sentiments']), len(toy_params['words'])))\n",
        "\n",
        "for state_idx in range(state_sums.shape[0]):\n",
        "  state_sums_norm[state_idx] = state_sums[state_idx]/(n_states[state_idx]*toy_params['phrase_length']) - mean_state\n",
        "  for i in range(int(n_states[state_idx])):\n",
        "    states[state_idx][i] = states[state_idx][i]/toy_params['phrase_length'] - mean_state\n",
        "\n",
        "pca_full = PCA(n_components=np.min([len(toy_params['sentiments']), len(toy_params['words'])]))\n",
        "states_pca = pca_full.fit_transform(state_sums_norm)\n",
        "explained_var = pca_full.explained_variance_ratio_\n",
        "print('Explained Variance:', explained_var,'')\n",
        "print('Participation Ratio:', syn_an.participation_ratio_vector(pca_full.explained_variance_))\n",
        "\n",
        "pc1 = 0\n",
        "pc2 = 1\n",
        "\n",
        "plt.figure(figsize=(6,6))\n",
        "for state_idx in range(state_sums.shape[0]):\n",
        "  plt.plot([0, states_pca[state_idx,pc1]], [0, states_pca[state_idx,pc2]])\n",
        "  pca_state = pca_full.transform(states[state_idx])\n",
        "  print(pca_state.shape)\n",
        "  plt.scatter(pca_state[:, pc1], pca_state[:, pc2], alpha=0.1)\n",
        "\n",
        "plot_coords = None\n",
        "if plot_coords != None:\n",
        "  plt.xlim(-plot_coords, plot_coords)\n",
        "  plt.ylim(-plot_coords, plot_coords)"
      ],
      "execution_count": null,
      "outputs": [
        {
          "output_type": "stream",
          "text": [
            "Sythentic data generated in: 0.92 sec. Autobalanced: False. Uniform score: True\n",
            "Explained Variance: [5.15580645e-01 4.84419355e-01 2.20756437e-34] \n",
            "Participation Ratio: 1.998059832054784\n",
            "(437, 3)\n",
            "(398, 3)\n",
            "(445, 3)\n"
          ],
          "name": "stdout"
        },
        {
          "output_type": "display_data",
          "data": {
            "image/png": "[encoded data removed]",
            "text/plain": [
              "<Figure size 432x432 with 1 Axes>"
            ]
          },
          "metadata": {
            "tags": [],
            "needs_background": "light"
          }
        }
      ]
    },
    {
      "cell_type": "code",
      "metadata": {
        "id": "kjb1FtPkF4Qb",
        "colab": {
          "base_uri": "https://localhost:8080/",
          "height": 639
        },
        "outputId": "9f69f609-1049-4741-a6d0-6da523b90c87"
      },
      "source": [
        "toy_params = {\n",
        "  'phrase_length': 50,\n",
        "  'loss_type': 'XE',\n",
        "  'context_words' : False,\n",
        "  'unordered_class': True, # Use an unordered class set\n",
        "  'uniform_score': True, # Uniform distribution over scores\n",
        "}\n",
        "\n",
        "class_size = [2, 3, 4, 5, 6, 7, 8, 9, 10]\n",
        "var_exp = []\n",
        "class_dims = []\n",
        "\n",
        "train_params = {'train_set_size': 1280}\n",
        "\n",
        "for class_idx in range(len(class_size)):\n",
        "  toy_params['n_unordered'] = class_size[class_idx]\n",
        "  toy_params['words'] = syn.generateWordBank(toy_params)\n",
        "\n",
        "  if toy_params['unordered_class']:\n",
        "    toy_params['sentiments'] = ['sent'+str(i) for i in range(toy_params['n_unordered'])]\n",
        "  toy_params['base_word_vals'] = syn.baseWordValues(toy_params)\n",
        "\n",
        "  train_params, toy_params, _ = syn_train.default_params(train_params, toy_params, {})\n",
        "\n",
        "  syn_data = syn.generate_data(train_params['train_set_size'], toy_params, len(toy_params['sentiments']), jnp_arrays=False)\n",
        "\n",
        "  state_sums = np.zeros((len(toy_params['sentiments']), len(toy_params['words'])))\n",
        "  n_states = np.zeros((len(toy_params['sentiments'])))\n",
        "  states = []\n",
        "\n",
        "  for sent, sent_idx in zip(toy_params['sentiments'], range(len(toy_params['sentiments']))):\n",
        "    states.append([np.sum(input, axis=0) for input, lbl in zip(syn_data['inputs'], syn_data['labels']) if np.argmax(lbl[toy_params['phrase_length']-1]) == sent_idx])\n",
        "    state_sums[sent_idx] = np.sum(states[sent_idx], axis=0)\n",
        "    n_states[sent_idx] = len(states[sent_idx])\n",
        "  # subtracts mean across all states\n",
        "  mean_state = np.sum(state_sums, axis=0) / (train_params['train_set_size']*toy_params['phrase_length'])\n",
        "\n",
        "  state_sums_norm = np.zeros((len(toy_params['sentiments']), len(toy_params['words'])))\n",
        "\n",
        "  for state_idx in range(state_sums.shape[0]):\n",
        "    state_sums_norm[state_idx] = state_sums[state_idx]/(n_states[state_idx]*toy_params['phrase_length']) - mean_state\n",
        "    for i in range(int(n_states[state_idx])):\n",
        "      states[state_idx][i] = states[state_idx][i]/toy_params['phrase_length'] - mean_state\n",
        "\n",
        "  pca_full = PCA(n_components=np.min([len(toy_params['sentiments']), len(toy_params['words'])]))\n",
        "  states_pca = pca_full.fit_transform(state_sums_norm)\n",
        "  explained_var = pca_full.explained_variance_ratio_\n",
        "  explained_var_sum = [np.sum(explained_var[:i+1]) for i in range(class_size[class_idx])]\n",
        "  var_exp.append(explained_var_sum)\n",
        "  class_dims.append([i+1 for i in range(class_size[class_idx])])\n",
        "  print('Explained Variance:', explained_var,'')\n",
        "  print('Participation Ratio:', syn_an.participation_ratio_vector(pca_full.explained_variance_))"
      ],
      "execution_count": null,
      "outputs": [
        {
          "output_type": "stream",
          "text": [
            "Sythentic data generated in: 0.65 sec. Autobalanced: False. Uniform score: True\n",
            "Explained Variance: [1. 0.] \n",
            "Participation Ratio: 1.0\n",
            "Sythentic data generated in: 0.93 sec. Autobalanced: False. Uniform score: True\n",
            "Explained Variance: [5.44384157e-01 4.55615843e-01 8.63257459e-34] \n",
            "Participation Ratio: 1.984363585066902\n",
            "Sythentic data generated in: 1.10 sec. Autobalanced: False. Uniform score: True\n",
            "Explained Variance: [3.62532968e-01 3.25779046e-01 3.11687986e-01 1.86247087e-33] \n",
            "Participation Ratio: 2.9876472108533743\n",
            "Sythentic data generated in: 1.24 sec. Autobalanced: False. Uniform score: True\n",
            "Explained Variance: [2.71850891e-01 2.51247287e-01 2.47863436e-01 2.29038386e-01\n",
            " 6.40721634e-34] \n",
            "Participation Ratio: 3.985286778331484\n",
            "Sythentic data generated in: 1.34 sec. Autobalanced: False. Uniform score: True\n",
            "Explained Variance: [2.21748606e-01 2.18503999e-01 1.92489404e-01 1.85652659e-01\n",
            " 1.81605332e-01 1.98905653e-33] \n",
            "Participation Ratio: 4.964848403593328\n",
            "Sythentic data generated in: 1.42 sec. Autobalanced: False. Uniform score: True\n",
            "Explained Variance: [1.89955243e-01 1.78927608e-01 1.74762232e-01 1.60227375e-01\n",
            " 1.50473823e-01 1.45653720e-01 8.60572411e-34] \n",
            "Participation Ratio: 5.946359911615929\n",
            "Sythentic data generated in: 1.48 sec. Autobalanced: False. Uniform score: True\n",
            "Explained Variance: [1.67703626e-01 1.60154678e-01 1.46651850e-01 1.41892853e-01\n",
            " 1.40602902e-01 1.24335209e-01 1.18658884e-01 1.20963799e-34] \n",
            "Participation Ratio: 6.909764892642547\n",
            "Sythentic data generated in: 1.54 sec. Autobalanced: False. Uniform score: True\n",
            "Explained Variance: [1.45745337e-01 1.38968761e-01 1.35028411e-01 1.29010754e-01\n",
            " 1.21072289e-01 1.13695406e-01 1.10343638e-01 1.06135404e-01\n",
            " 2.04667061e-34] \n",
            "Participation Ratio: 7.9078855844656974\n",
            "Sythentic data generated in: 1.60 sec. Autobalanced: False. Uniform score: True\n",
            "Explained Variance: [1.33941474e-01 1.25983312e-01 1.17657297e-01 1.16856375e-01\n",
            " 1.15051553e-01 1.07639304e-01 1.05983232e-01 9.08033449e-02\n",
            " 8.60841080e-02 5.55529231e-35] \n",
            "Participation Ratio: 8.84783403843129\n"
          ],
          "name": "stdout"
        }
      ]
    },
    {
      "cell_type": "code",
      "metadata": {
        "id": "YprChvSEIBiX",
        "colab": {
          "base_uri": "https://localhost:8080/",
          "height": 406
        },
        "outputId": "7a432dca-32cc-4b69-f346-1fe541d96fd4"
      },
      "source": [
        "plt.figure(figsize=(6,6))\n",
        "for class_idx in range(len(class_size)):\n",
        "  plt.plot(class_dims[class_idx],var_exp[class_idx], marker='o', label='N='+str(class_size[class_idx]))\n",
        "\n",
        "plt.xlabel('Dimensions')\n",
        "plt.ylabel('% Variance Explained')\n",
        "plt.legend()\n"
      ],
      "execution_count": null,
      "outputs": [
        {
          "output_type": "execute_result",
          "data": {
            "text/plain": [
              "<matplotlib.legend.Legend at 0x7fbeb15f2be0>"
            ]
          },
          "metadata": {
            "tags": []
          },
          "execution_count": 43
        },
        {
          "output_type": "display_data",
          "data": {
            "image/png": "[encoded data removed]",
            "text/plain": [
              "<Figure size 432x432 with 1 Axes>"
            ]
          },
          "metadata": {
            "tags": [],
            "needs_background": "light"
          }
        }
      ]
    },
    {
      "cell_type": "markdown",
      "metadata": {
        "id": "WrBMrCMJWJus"
      },
      "source": [
        "# Bag of Words Tests"
      ]
    },
    {
      "cell_type": "code",
      "metadata": {
        "id": "VjNrSONCn50a"
      },
      "source": [
        "def SequenceSum():\n",
        "    def init_fun(_, input_shape):\n",
        "        return (input_shape[0], input_shape[2]), ()\n",
        "    def apply_fun(_, inputs, **kwargs):\n",
        "        return jnp.sum(inputs, axis=1)\n",
        "    return init_fun, apply_fun\n",
        "\n",
        "# Loss\n",
        "def xent(params, batch):\n",
        "    logits = apply_fun(params, batch['inputs'])\n",
        "    targets = batch['labels'][:,toy_params['phrase_length']-1]\n",
        "    data_loss = -jnp.mean(jnp.sum(targets * logits, axis=1))\n",
        "    reg_loss = l2_pen * renn.norm(params)\n",
        "    return data_loss + reg_loss\n",
        "\n",
        "# Accuracy\n",
        "@jax.jit\n",
        "def accuracy(params, batch):\n",
        "    logits = apply_fun(params, batch['inputs'])\n",
        "    predictions = jnp.argmax(logits, axis=1)\n",
        "    target_labels = jnp.argmax(batch['labels'][:,toy_params['phrase_length']-1], axis=1)\n",
        "    return jnp.mean(predictions == target_labels)\n",
        "\n",
        "@jax.jit\n",
        "def bow_step(k, opt_state, batch):\n",
        "    params = get_params(opt_state)\n",
        "    loss, gradients = f_df(params, batch)\n",
        "    new_state = update_opt(k, gradients, opt_state)\n",
        "    return new_state, loss\n",
        "\n",
        "def test_acc(params):\n",
        "    return jnp.array([accuracy(params, syn_data_test)])"
      ],
      "execution_count": null,
      "outputs": []
    },
    {
      "cell_type": "code",
      "metadata": {
        "id": "vOcm0zRoWyDM"
      },
      "source": [
        "toy_params = {\n",
        "  'phrase_length': 48,\n",
        "  'loss_type': 'XE',\n",
        "  'context_words' : False,\n",
        "  'unordered_class': True, # Use an unordered class set\n",
        "  'n_unordered': 3,\n",
        "  'words': ['kinda0', 'kinda1', 'kinda2'],\n",
        "  'uniform_score': True, # Uniform distribution over scores\n",
        "  'filter': 24.0\n",
        "}\n",
        "\n",
        "# toy_params['words'] = generateWordBank(toy_params)\n",
        "if toy_params['unordered_class']:\n",
        "  toy_params['sentiments'] = ['sent'+str(i) for i in range(toy_params['n_unordered'])]\n",
        "toy_params['base_word_vals'] = baseWordValues(toy_params)\n",
        "\n",
        "train_params = {\n",
        "  'max_grad_norm': 10.0,      # max gradient norm before clipping, clip to this value.\n",
        "\n",
        "  'batch_size': 128,                     # How many examples in each batch\n",
        "  'num_batchs': 2000,                    # Total number of batches to train on.\n",
        "  'print_every': 100,                     # Print training informatino every so often\n",
        "\n",
        "  'epochs': 2,                               # How many times to go through each train set completely\n",
        "  'test_set_size': 200,\n",
        "}\n",
        "\n",
        "train_params['train_set_size'] = train_params['batch_size'] * train_params['num_batchs']\n",
        "\n",
        "train_params, toy_params, rnn_specs = default_params(train_params, toy_params, {})\n",
        "\n",
        "input_shape = (train_params['batch_size'], toy_params['phrase_length'], len(toy_params['words']))\n",
        "l2_pen = 1e-3\n",
        "\n",
        "# Linear model\n",
        "init_fun, apply_fun = stax.serial(\n",
        "    SequenceSum(),\n",
        "    stax.Dense(len(toy_params['sentiments'])),\n",
        "    stax.LogSoftmax,\n",
        ")\n",
        "\n",
        "# Initialize\n",
        "key = jax.random.PRNGKey(0)\n",
        "output_shape, initial_params = init_fun(key, input_shape)\n",
        "\n",
        "f_df = jax.value_and_grad(xent)\n",
        "\n",
        "# Train\n",
        "learning_rate = optimizers.exponential_decay(2e-3, 1000, 0.8)\n",
        "init_opt, update_opt, get_params = optimizers.adam(learning_rate)\n",
        "\n",
        "state = init_opt(initial_params)\n",
        "losses = []\n",
        "global_step = 0\n",
        "total_steps = 0\n",
        "batch_size = train_params['batch_size']\n",
        "num_batchs = train_params['num_batchs']\n",
        "\n",
        "syn_data = generate_data(train_params['train_set_size'], toy_params, len(toy_params['sentiments']))\n",
        "syn_data_test = generate_data(train_params['test_set_size'], toy_params, len(toy_params['sentiments']))\n",
        "\n",
        "\n",
        "for epoch in range(train_params['epochs']):\n",
        "  # Shuffles training data after first epoch\n",
        "  if epoch > 0:\n",
        "    print('Shuffling Data')\n",
        "    syn_data = shuffle_data(syn_data)\n",
        "\n",
        "  print('Running batches {} to {}'.format(global_step, global_step+num_batchs))\n",
        "  start_time = time.time()  \n",
        "  avg_loss = 0 \n",
        "  for step in range(total_steps, total_steps+num_batchs):\n",
        "    batch = step - total_steps \n",
        "    batch_data = {\n",
        "      'inputs': syn_data['inputs'][batch*batch_size:(batch+1)*batch_size, :, :], # Phrase tensors: batch x phrase_len x in_dim\n",
        "      'labels': syn_data['labels'][batch*batch_size:(batch+1)*batch_size, :, :], # Sentiment tensors: batch x phrase_len x out_dim\n",
        "      'index': syn_data['index'], # Target mask: list of integers up to phrase_len\n",
        "    }\n",
        "    \n",
        "    state, loss = bow_step(global_step, state, batch_data)\n",
        "    losses.append(loss)\n",
        "    avg_loss += loss\n",
        "    global_step += 1\n",
        "\n",
        "    if (global_step+1) % train_params['print_every'] == 0:\n",
        "      acc = np.mean(test_acc(get_params(state)))\n",
        "      batch_time = time.time() - start_time\n",
        "      step_size = learning_rate(global_step)\n",
        "      s = \"Step {} in {:0.2f} sec, step size: {:0.5f}, test acc {:0.4f}, avg training loss {:0.4f}\"\n",
        "      print(s.format(global_step+1, batch_time, step_size, acc, avg_loss/train_params['print_every']))\n",
        "      start_time = time.time()\n",
        "      avg_loss = 0"
      ],
      "execution_count": null,
      "outputs": []
    }
  ]
}