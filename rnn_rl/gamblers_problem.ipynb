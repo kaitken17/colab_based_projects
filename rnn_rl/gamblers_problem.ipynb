{
  "nbformat": 4,
  "nbformat_minor": 0,
  "metadata": {
    "colab": {
      "name": "gamblers_problem.ipynb",
      "provenance": [],
      "collapsed_sections": [],
      "authorship_tag": "ABX9TyOh07JiPfD5cHr1MvszqYze",
      "include_colab_link": true
    },
    "kernelspec": {
      "name": "python3",
      "display_name": "Python 3"
    }
  },
  "cells": [
    {
      "cell_type": "markdown",
      "metadata": {
        "id": "view-in-github",
        "colab_type": "text"
      },
      "source": [
        "<a href=\"https://colab.research.google.com/github/kaitken17/colab_based_projects/blob/master/rnn_rl/gamblers_problem.ipynb\" target=\"_parent\"><img src=\"https://colab.research.google.com/assets/colab-badge.svg\" alt=\"Open In Colab\"/></a>"
      ]
    },
    {
      "cell_type": "code",
      "metadata": {
        "id": "kZs3N-uIjR9g"
      },
      "source": [
        "import numpy as np\n",
        "from random import random\n",
        "from random import randint\n",
        "\n",
        "import matplotlib.pyplot as plt"
      ],
      "execution_count": null,
      "outputs": []
    },
    {
      "cell_type": "code",
      "metadata": {
        "id": "9-NCojJqhpOX"
      },
      "source": [
        "class GambleEnv():\n",
        "  \"\"\" Environment for gambler's problem \"\"\"\n",
        "\n",
        "  def __init__(self, p_lose=0.5, max_state=100, start_state=50):\n",
        "    self.p_lose = p_lose\n",
        "    self.max_state = max_state\n",
        "\n",
        "  def eval_reward(self, state):\n",
        "    # Evalutes reward\n",
        "    if state >= self.max_state:\n",
        "      reward = 1\n",
        "    elif state <= 0:\n",
        "      reward = -1\n",
        "    else:\n",
        "      reward = 0\n",
        "    return reward\n",
        "\n",
        "  def gamble(self, state, action):\n",
        "    \"\"\" Takes in a previous state and action and returns next state and reward \n",
        "    state: current amount of money  \n",
        "    action: wager\n",
        "\n",
        "    next_state: money\n",
        "    reward: 1 if game is won , -1 if loss, otherwise 0\n",
        "    \"\"\"\n",
        "\n",
        "    # Evalutes next state\n",
        "    if random() > self.p_lose: # Success\n",
        "      next_state = state + action\n",
        "      # print(f'Agent Wins: {state} -> {next_state} (bet {action})')\n",
        "    else: # Failure\n",
        "      next_state = state - action\n",
        "      # print(f'Agent Loses: {state} -> {next_state} (bet {action})')\n",
        "\n",
        "    return next_state, self.eval_reward(next_state)\n",
        "\n",
        "  def win_lose_vals(self, state, action):\n",
        "    \"\"\" Evalutes all possible actions from a given state, used to update values \"\"\"\n",
        "    win_state = state + action\n",
        "    win_reward = self.eval_reward(win_state)\n",
        "    win_prob = 1 - self.p_lose\n",
        "\n",
        "    lose_state = state - action\n",
        "    lose_reward = self.eval_reward(lose_state)\n",
        "    lose_prob = self.p_lose\n",
        "\n",
        "    return win_state, win_reward, win_prob, lose_state, lose_reward, lose_prob\n",
        "\n",
        "class GamblePolicy():\n",
        "  \"\"\" A given policy for gambling, beloning to the agent\n",
        "  \n",
        "  policy: array of integers corresponding to action bet (running from 0 to max_state)\n",
        "  \n",
        "  \"\"\"\n",
        "  def __init__(self, env):\n",
        "    \"\"\" Initializes based on a given policy \"\"\"\n",
        "    self.max_state = env.max_state\n",
        "    # Inits policy as random integers between 1 and state_value\n",
        "    self.policy = np.zeros((self.max_state+1), dtype=np.int32)\n",
        "    for idx in range(1, self.policy.shape[0]): # Doesn't update 0 policy\n",
        "      # self.policy[idx] = randint(1, idx)\n",
        "      self.policy[idx] = 1\n",
        "\n",
        "\n",
        "  def get_action(self, state):\n",
        "    \"\"\" Returns an action based on a state (deterministic in this example) \"\"\"\n",
        "    # Converts state into corresponding index in policy\n",
        "    return self.policy[state]\n",
        "\n",
        "class GambleValues():\n",
        "  \"\"\" \n",
        "  Holds values of a given state, as well as values of states given actions \n",
        "  \n",
        "  s_vals: 1d array of estimated values (n_states)\n",
        "  sa_vals: 2d array of estimated values (n_states, n_states)\n",
        "  \n",
        "  \"\"\"\n",
        "  def __init__(self, env):\n",
        "    self.s_vals = np.zeros((env.max_state-1))\n",
        "    self.sa_vals = -np.inf * np.ones((env.max_state-1, env.max_state-1))\n",
        "\n",
        "class GambleAgent():\n",
        "  \"\"\" Agent that gambles \"\"\"\n",
        "  def __init__(self, env, gamma=1.0):\n",
        "    self.env = env\n",
        "    self.policy = GamblePolicy(self.env)\n",
        "    self.values = GambleValues(self.env)\n",
        "    self.state = randint(1, env.max_state-1)\n",
        "    self.gamma = gamma\n",
        "\n",
        "  def bet(self):\n",
        "    \"\"\" Gambling agent takes an action based on the state (doesn't act based on reward for this problem) \"\"\"\n",
        "    \n",
        "    if self.state >= self.env.max_state:\n",
        "      raise ValueError('Alreasdy won')\n",
        "    if self.state <= 0:\n",
        "      raise ValueError('Alreasdy lost')\n",
        "\n",
        "    action = self.policy.get_action(self.state)\n",
        "    self.state, reward = self.env.gamble(self.state, action)\n",
        "\n",
        "  def bet_a_lot(self, trials=1000):\n",
        "    \"\"\" Bets over a lot of trials to get an idea of how successful policy is \"\"\"\n",
        "    total_reward = 0\n",
        "    total_wins = 0\n",
        "    total_losses = 0\n",
        "    for _ in range(trials):\n",
        "      # Resets state\n",
        "      self.state = randint(1, env.max_state-1)\n",
        "      reward = 0\n",
        "      while reward == 0:\n",
        "        action = self.policy.get_action(self.state)\n",
        "        self.state, reward = self.env.gamble(self.state, action)\n",
        "      if reward > 0: total_wins += 1\n",
        "      if reward < 0: total_losses += 1\n",
        "      total_reward += reward\n",
        "\n",
        "    print(f'Total Reward: {total_reward} (wins: {total_wins}, losses: {total_losses}, avg: {total_reward/trials})')\n",
        "\n",
        "  def evaluate_values(self, thresh = 1e-3):\n",
        "    \"\"\" Iteratively updates the values. Note this does this in place \"\"\"\n",
        "    deltas = np.ones((self.env.max_state - 1))\n",
        "\n",
        "    # Finds s_vals with iterations\n",
        "    while (deltas > thresh).any():\n",
        "      # Evalutes the values of each state\n",
        "      # print('s_vals:', self.values.s_vals)\n",
        "      for state_idx in range(self.env.max_state - 1):\n",
        "        old_value = self.values.s_vals[state_idx].copy()\n",
        "        state = state_idx + 1 # Starts at state 1\n",
        "        \n",
        "        # Finds two possibilities in state\n",
        "        action = self.policy.get_action(state)\n",
        "        win_state, win_reward, win_prob, lose_state, lose_reward, lose_prob = self.env.win_lose_vals(state, action)\n",
        "        # print('win_state:', win_state)\n",
        "        # print('win_reward', win_reward)\n",
        "        # print('win prob', win_prob)\n",
        "        # print('lose_state:', lose_state)\n",
        "        # print('lose_reward', lose_reward)\n",
        "        # print('lose prob', lose_prob)\n",
        "        # Updates value given possibilities\n",
        "        state_val = 0.0\n",
        "        if win_state >= self.env.max_state: # The value for this state is simply 0\n",
        "          state_val += win_prob * win_reward\n",
        "        else:\n",
        "          state_val += win_prob * (win_reward + self.gamma * self.values.s_vals[win_state-1])\n",
        "        if lose_state <= 0: # Value for this state is 0\n",
        "          state_val += lose_prob * lose_reward\n",
        "        else:\n",
        "          state_val += lose_prob * (lose_reward + self.gamma * self.values.s_vals[lose_state-1])\n",
        "        # print('state_val:', state_val)\n",
        "        self.values.s_vals[state_idx] = state_val\n",
        "        deltas[state_idx] = np.abs(old_value - self.values.s_vals[state_idx])\n",
        "      # print(sdfsdfsdf)\n",
        "    # Finds sa_vals using s_vals\n",
        "    for state_idx in range(self.env.max_state - 1):\n",
        "      for action_idx in range(state_idx+1): # All possible actions from a given state\n",
        "        state = state_idx + 1\n",
        "        action = action_idx + 1        \n",
        "        win_state, win_reward, win_prob, lose_state, lose_reward, lose_prob = self.env.win_lose_vals(state, action)\n",
        "        sa_val = 0.0\n",
        "        if win_state >= self.env.max_state: # The value for this state is 0\n",
        "          sa_val += win_prob * win_reward\n",
        "        else:\n",
        "          sa_val += win_prob * (win_reward + self.gamma * self.values.s_vals[win_state-1])\n",
        "        if lose_state <= 0: # Value for this state is 0\n",
        "          sa_val += lose_prob * lose_reward\n",
        "        else:\n",
        "          sa_val += lose_prob * (lose_reward + self.gamma * self.values.s_vals[lose_state-1])\n",
        "        self.values.sa_vals[state_idx, action_idx] = sa_val\n",
        "\n",
        "  def update_policy(self):\n",
        "    \"\"\" Updates the policy based on sa_vals (just uses greedy to update) \"\"\"\n",
        "    # +1 is needed because sa_vals starts at state 1\n",
        "    self.policy.policy[1:-1] = np.argmax(agent.values.sa_vals, axis=1) + 1"
      ],
      "execution_count": null,
      "outputs": []
    },
    {
      "cell_type": "code",
      "metadata": {
        "id": "4bwfKi-1keS0"
      },
      "source": [
        "env = GambleEnv(p_lose=0.6)\n",
        "agent = GambleAgent(env, gamma=1.0)"
      ],
      "execution_count": null,
      "outputs": []
    },
    {
      "cell_type": "code",
      "metadata": {
        "colab": {
          "base_uri": "https://localhost:8080/"
        },
        "id": "BnT6GNI4kwVU",
        "outputId": "6b4bef3a-3c31-4e6e-e6d9-058feb9c9d1a"
      },
      "source": [
        "agent.bet_a_lot()"
      ],
      "execution_count": null,
      "outputs": [
        {
          "output_type": "stream",
          "text": [
            "Total Reward: -182 (wins: 409, losses: 591, avg: -0.182)\n"
          ],
          "name": "stdout"
        }
      ]
    },
    {
      "cell_type": "code",
      "metadata": {
        "colab": {
          "base_uri": "https://localhost:8080/"
        },
        "id": "MBg0QQXWpokW",
        "outputId": "7d3bbe59-f28d-4ca4-e242-261466f40ffc"
      },
      "source": [
        "for _ in range(100):\n",
        "  agent.bet_a_lot()\n",
        "  agent.evaluate_values()\n",
        "  agent.update_policy()"
      ],
      "execution_count": null,
      "outputs": [
        {
          "output_type": "stream",
          "text": [
            "Total Reward: -976 (wins: 12, losses: 988, avg: -0.976)\n",
            "Total Reward: -178 (wins: 411, losses: 589, avg: -0.178)\n",
            "Total Reward: -208 (wins: 396, losses: 604, avg: -0.208)\n",
            "Total Reward: -220 (wins: 390, losses: 610, avg: -0.22)\n",
            "Total Reward: -202 (wins: 399, losses: 601, avg: -0.202)\n",
            "Total Reward: -220 (wins: 390, losses: 610, avg: -0.22)\n",
            "Total Reward: -202 (wins: 399, losses: 601, avg: -0.202)\n",
            "Total Reward: -204 (wins: 398, losses: 602, avg: -0.204)\n",
            "Total Reward: -166 (wins: 417, losses: 583, avg: -0.166)\n",
            "Total Reward: -200 (wins: 400, losses: 600, avg: -0.2)\n",
            "Total Reward: -214 (wins: 393, losses: 607, avg: -0.214)\n",
            "Total Reward: -212 (wins: 394, losses: 606, avg: -0.212)\n",
            "Total Reward: -228 (wins: 386, losses: 614, avg: -0.228)\n",
            "Total Reward: -216 (wins: 392, losses: 608, avg: -0.216)\n",
            "Total Reward: -210 (wins: 395, losses: 605, avg: -0.21)\n",
            "Total Reward: -208 (wins: 396, losses: 604, avg: -0.208)\n",
            "Total Reward: -206 (wins: 397, losses: 603, avg: -0.206)\n",
            "Total Reward: -244 (wins: 378, losses: 622, avg: -0.244)\n",
            "Total Reward: -230 (wins: 385, losses: 615, avg: -0.23)\n",
            "Total Reward: -174 (wins: 413, losses: 587, avg: -0.174)\n",
            "Total Reward: -176 (wins: 412, losses: 588, avg: -0.176)\n",
            "Total Reward: -210 (wins: 395, losses: 605, avg: -0.21)\n",
            "Total Reward: -206 (wins: 397, losses: 603, avg: -0.206)\n",
            "Total Reward: -216 (wins: 392, losses: 608, avg: -0.216)\n",
            "Total Reward: -180 (wins: 410, losses: 590, avg: -0.18)\n",
            "Total Reward: -166 (wins: 417, losses: 583, avg: -0.166)\n",
            "Total Reward: -226 (wins: 387, losses: 613, avg: -0.226)\n",
            "Total Reward: -202 (wins: 399, losses: 601, avg: -0.202)\n",
            "Total Reward: -184 (wins: 408, losses: 592, avg: -0.184)\n",
            "Total Reward: -174 (wins: 413, losses: 587, avg: -0.174)\n",
            "Total Reward: -216 (wins: 392, losses: 608, avg: -0.216)\n",
            "Total Reward: -202 (wins: 399, losses: 601, avg: -0.202)\n",
            "Total Reward: -122 (wins: 439, losses: 561, avg: -0.122)\n",
            "Total Reward: -184 (wins: 408, losses: 592, avg: -0.184)\n",
            "Total Reward: -206 (wins: 397, losses: 603, avg: -0.206)\n",
            "Total Reward: -182 (wins: 409, losses: 591, avg: -0.182)\n",
            "Total Reward: -214 (wins: 393, losses: 607, avg: -0.214)\n",
            "Total Reward: -206 (wins: 397, losses: 603, avg: -0.206)\n",
            "Total Reward: -178 (wins: 411, losses: 589, avg: -0.178)\n",
            "Total Reward: -130 (wins: 435, losses: 565, avg: -0.13)\n",
            "Total Reward: -246 (wins: 377, losses: 623, avg: -0.246)\n",
            "Total Reward: -170 (wins: 415, losses: 585, avg: -0.17)\n",
            "Total Reward: -198 (wins: 401, losses: 599, avg: -0.198)\n",
            "Total Reward: -248 (wins: 376, losses: 624, avg: -0.248)\n",
            "Total Reward: -222 (wins: 389, losses: 611, avg: -0.222)\n",
            "Total Reward: -180 (wins: 410, losses: 590, avg: -0.18)\n",
            "Total Reward: -210 (wins: 395, losses: 605, avg: -0.21)\n",
            "Total Reward: -176 (wins: 412, losses: 588, avg: -0.176)\n",
            "Total Reward: -248 (wins: 376, losses: 624, avg: -0.248)\n",
            "Total Reward: -194 (wins: 403, losses: 597, avg: -0.194)\n",
            "Total Reward: -194 (wins: 403, losses: 597, avg: -0.194)\n",
            "Total Reward: -144 (wins: 428, losses: 572, avg: -0.144)\n",
            "Total Reward: -152 (wins: 424, losses: 576, avg: -0.152)\n",
            "Total Reward: -172 (wins: 414, losses: 586, avg: -0.172)\n",
            "Total Reward: -286 (wins: 357, losses: 643, avg: -0.286)\n",
            "Total Reward: -194 (wins: 403, losses: 597, avg: -0.194)\n",
            "Total Reward: -164 (wins: 418, losses: 582, avg: -0.164)\n",
            "Total Reward: -180 (wins: 410, losses: 590, avg: -0.18)\n",
            "Total Reward: -196 (wins: 402, losses: 598, avg: -0.196)\n",
            "Total Reward: -182 (wins: 409, losses: 591, avg: -0.182)\n",
            "Total Reward: -132 (wins: 434, losses: 566, avg: -0.132)\n",
            "Total Reward: -226 (wins: 387, losses: 613, avg: -0.226)\n",
            "Total Reward: -234 (wins: 383, losses: 617, avg: -0.234)\n",
            "Total Reward: -226 (wins: 387, losses: 613, avg: -0.226)\n",
            "Total Reward: -254 (wins: 373, losses: 627, avg: -0.254)\n",
            "Total Reward: -188 (wins: 406, losses: 594, avg: -0.188)\n",
            "Total Reward: -178 (wins: 411, losses: 589, avg: -0.178)\n",
            "Total Reward: -224 (wins: 388, losses: 612, avg: -0.224)\n",
            "Total Reward: -162 (wins: 419, losses: 581, avg: -0.162)\n",
            "Total Reward: -200 (wins: 400, losses: 600, avg: -0.2)\n",
            "Total Reward: -238 (wins: 381, losses: 619, avg: -0.238)\n",
            "Total Reward: -148 (wins: 426, losses: 574, avg: -0.148)\n",
            "Total Reward: -158 (wins: 421, losses: 579, avg: -0.158)\n",
            "Total Reward: -210 (wins: 395, losses: 605, avg: -0.21)\n",
            "Total Reward: -228 (wins: 386, losses: 614, avg: -0.228)\n",
            "Total Reward: -204 (wins: 398, losses: 602, avg: -0.204)\n",
            "Total Reward: -192 (wins: 404, losses: 596, avg: -0.192)\n",
            "Total Reward: -198 (wins: 401, losses: 599, avg: -0.198)\n",
            "Total Reward: -218 (wins: 391, losses: 609, avg: -0.218)\n",
            "Total Reward: -184 (wins: 408, losses: 592, avg: -0.184)\n",
            "Total Reward: -194 (wins: 403, losses: 597, avg: -0.194)\n",
            "Total Reward: -194 (wins: 403, losses: 597, avg: -0.194)\n",
            "Total Reward: -232 (wins: 384, losses: 616, avg: -0.232)\n",
            "Total Reward: -178 (wins: 411, losses: 589, avg: -0.178)\n",
            "Total Reward: -230 (wins: 385, losses: 615, avg: -0.23)\n",
            "Total Reward: -204 (wins: 398, losses: 602, avg: -0.204)\n",
            "Total Reward: -186 (wins: 407, losses: 593, avg: -0.186)\n",
            "Total Reward: -236 (wins: 382, losses: 618, avg: -0.236)\n",
            "Total Reward: -178 (wins: 411, losses: 589, avg: -0.178)\n",
            "Total Reward: -156 (wins: 422, losses: 578, avg: -0.156)\n",
            "Total Reward: -204 (wins: 398, losses: 602, avg: -0.204)\n",
            "Total Reward: -206 (wins: 397, losses: 603, avg: -0.206)\n",
            "Total Reward: -198 (wins: 401, losses: 599, avg: -0.198)\n",
            "Total Reward: -156 (wins: 422, losses: 578, avg: -0.156)\n",
            "Total Reward: -138 (wins: 431, losses: 569, avg: -0.138)\n",
            "Total Reward: -210 (wins: 395, losses: 605, avg: -0.21)\n",
            "Total Reward: -144 (wins: 428, losses: 572, avg: -0.144)\n",
            "Total Reward: -188 (wins: 406, losses: 594, avg: -0.188)\n",
            "Total Reward: -306 (wins: 347, losses: 653, avg: -0.306)\n",
            "Total Reward: -200 (wins: 400, losses: 600, avg: -0.2)\n"
          ],
          "name": "stdout"
        }
      ]
    },
    {
      "cell_type": "code",
      "metadata": {
        "colab": {
          "base_uri": "https://localhost:8080/",
          "height": 282
        },
        "id": "wLYkNPnMqs6R",
        "outputId": "fb711468-542c-43fe-9dd1-eaab6fbb986e"
      },
      "source": [
        "plt.plot(agent.policy.policy)"
      ],
      "execution_count": null,
      "outputs": [
        {
          "output_type": "execute_result",
          "data": {
            "text/plain": [
              "[<matplotlib.lines.Line2D at 0x7f84c14d76a0>]"
            ]
          },
          "metadata": {
            "tags": []
          },
          "execution_count": 85
        },
        {
          "output_type": "display_data",
          "data": {
            "image/png": "[encoded data removed]",
            "text/plain": [
              "<Figure size 432x288 with 1 Axes>"
            ]
          },
          "metadata": {
            "tags": [],
            "needs_background": "light"
          }
        }
      ]
    },
    {
      "cell_type": "code",
      "metadata": {
        "colab": {
          "base_uri": "https://localhost:8080/"
        },
        "id": "SjebwT50GbFH",
        "outputId": "93e58e1e-3c92-4abe-94f6-270a66ed0d91"
      },
      "source": [
        "agent.evaluate_values()\n",
        "print('Policy:', agent.policy.policy)\n",
        "print('S vals:', agent.values.s_vals)\n",
        "print('Max AS vals:', np.argmax(agent.values.sa_vals, axis=1))\n",
        "print(agent.values.sa_vals[:10,:10])"
      ],
      "execution_count": null,
      "outputs": [
        {
          "output_type": "stream",
          "text": [
            "Policy: [ 0  1  1  2  3  4  5  6  7  8  9 10 11 12 13 14 15 16 17 18 19 20 21 22\n",
            " 23 24 25 26 27 28 29 30 31 32 33 34 35 36 37 38 39 40 41 42 43 44 45 46\n",
            " 47 48 49 49 48 47 46 45 44 43 42 41 40 39 38 37 36 35 34 33 32 31 30 29\n",
            " 28 27 26 25 24 23 22 21 20 19 18 17 16 15 14 13 12 11 10  9  8  7  6  5\n",
            "  4  3  2  1 24]\n",
            "S vals: [-0.99722574 -0.99306425 -0.98682192 -0.97834948 -0.97121611 -0.9619991\n",
            " -0.95003502 -0.94105857 -0.93220159 -0.92092476 -0.90915907 -0.89560821\n",
            " -0.87924886 -0.86602157 -0.85680773 -0.84682281 -0.83466529 -0.82098221\n",
            " -0.80647322 -0.78947462 -0.77705899 -0.76201205 -0.74318186 -0.72550946\n",
            " -0.70228347 -0.67667089 -0.66921525 -0.65935741 -0.64618064 -0.63537119\n",
            " -0.62121835 -0.60073647 -0.59082454 -0.57675718 -0.55661687 -0.54125742\n",
            " -0.5203444  -0.49283921 -0.47784789 -0.46427794 -0.44680881 -0.4288415\n",
            " -0.40919147 -0.38425411 -0.362116   -0.34170393 -0.317935   -0.29110181\n",
            " -0.25987003 -0.22709901 -0.19583855 -0.18700969 -0.17719946 -0.16463514\n",
            " -0.15255486 -0.13736493 -0.11961294 -0.10809369 -0.09258933 -0.07368477\n",
            " -0.05720723 -0.03530568 -0.00600253  0.00438556  0.01877729  0.03955812\n",
            "  0.05394569  0.07524555  0.10429647  0.12143324  0.1426951   0.16944753\n",
            "  0.19497764  0.22533891  0.2637406   0.28779419  0.30121892  0.31758104\n",
            "  0.33514379  0.35578914  0.37881659  0.40263133  0.42373487  0.44514733\n",
            "  0.47285994  0.50166852  0.53520335  0.57267651  0.59054863  0.61347348\n",
            "  0.6415788   0.6670884   0.70100111  0.74360591  0.76808409  0.80025304\n",
            "  0.84616354  0.88015182  0.92809109]\n",
            "Max AS vals: [ 0  0  1  2  3  4  5  6  7  8  9 10 11 12 13 14 15 16 17 18 19 20 21 22\n",
            " 23 24 25 26 27 28 29 30 31 32 33 34 35 36 37 38 39 40 41 42 43 44 45 46\n",
            " 47 48 48 47 46 45 44 43 42 41 40 39 38 37 36 35 34 33 32 31 30 29 28 27\n",
            " 26 25 24 23 22 21 20 19 18 17 16 15 14 13 12 11 10  9  8  7  6  5  4  3\n",
            "  2  1  0]\n",
            "[[-1.5972257         -inf        -inf        -inf        -inf        -inf\n",
            "         -inf        -inf        -inf        -inf]\n",
            " [-0.99306421 -1.59133979        -inf        -inf        -inf        -inf\n",
            "         -inf        -inf        -inf        -inf]\n",
            " [-0.98717834 -0.98682189 -1.58479964        -inf        -inf        -inf\n",
            "         -inf        -inf        -inf        -inf]\n",
            " [-0.9805796  -0.98063819 -0.97834945 -1.57642343        -inf        -inf\n",
            "         -inf        -inf        -inf        -inf]\n",
            " [-0.97180933 -0.97210716 -0.97226198 -0.97121608 -1.5683699         -inf\n",
            "         -inf        -inf        -inf        -inf]\n",
            " [-0.96274367 -0.96343312 -0.96497379 -0.96420845 -0.96199907 -1.55824329\n",
            "         -inf        -inf        -inf        -inf]\n",
            " [-0.95362289 -0.9556103  -0.95537959 -0.95575678 -0.95408184 -0.95003499\n",
            "  -1.54640863        -inf        -inf        -inf]\n",
            " [-0.94290164 -0.94556937 -0.94639329 -0.94525298 -0.9437927  -0.94224718\n",
            "  -0.94105853 -1.53872912        -inf        -inf]\n",
            " [-0.93300504 -0.93368464 -0.93544275 -0.93442921 -0.93341832 -0.93481624\n",
            "  -0.93456767 -0.93220156 -1.52839288        -inf]\n",
            " [-0.92298458 -0.92287842 -0.92172055 -0.92360809 -0.92545276 -0.92573881\n",
            "  -0.92595927 -0.92423143 -0.92092473 -1.51578985]]\n"
          ],
          "name": "stdout"
        }
      ]
    }
  ]
}